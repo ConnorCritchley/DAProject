{
 "cells": [
  {
   "cell_type": "code",
   "execution_count": 279,
   "id": "1e964e17-59f8-4bd0-a582-a6676adaff04",
   "metadata": {},
   "outputs": [],
   "source": [
    "import pandas as pd\n",
    "import numpy as np\n",
    "import matplotlib.pyplot as plt\n",
    "import seaborn as sns"
   ]
  },
  {
   "cell_type": "markdown",
   "id": "635c6962-989f-4412-b692-a6706b438280",
   "metadata": {},
   "source": [
    "# Title DF Import"
   ]
  },
  {
   "cell_type": "code",
   "execution_count": 281,
   "id": "0d44bf71-2415-4568-a01c-16972ecaa8bc",
   "metadata": {},
   "outputs": [
    {
     "name": "stderr",
     "output_type": "stream",
     "text": [
      "C:\\Users\\kerrj\\AppData\\Local\\Temp\\ipykernel_38396\\449990169.py:1: DtypeWarning: Columns (4) have mixed types. Specify dtype option on import or set low_memory=False.\n",
      "  df_titles = pd.read_csv('../title.basics.tsv', sep='\\t')\n"
     ]
    },
    {
     "data": {
      "text/plain": [
       "tconst              0\n",
       "titleType           0\n",
       "primaryTitle       19\n",
       "originalTitle      19\n",
       "isAdult             0\n",
       "startYear           0\n",
       "endYear             0\n",
       "runtimeMinutes      0\n",
       "genres            632\n",
       "dtype: int64"
      ]
     },
     "execution_count": 281,
     "metadata": {},
     "output_type": "execute_result"
    }
   ],
   "source": [
    "df_titles = pd.read_csv('../title.basics.tsv', sep='\\t')\n",
    "\n",
    "df_titles.isna().sum()"
   ]
  },
  {
   "cell_type": "markdown",
   "id": "1229f9cb-a8f5-4190-ad05-e4700dbf3bc4",
   "metadata": {},
   "source": [
    "### Clean Title Basic"
   ]
  },
  {
   "cell_type": "code",
   "execution_count": 283,
   "id": "fa3a9009-d1f0-40d8-a51a-7e5e8bf2614b",
   "metadata": {},
   "outputs": [
    {
     "data": {
      "text/plain": [
       "tconst            0\n",
       "titleType         0\n",
       "primaryTitle      0\n",
       "originalTitle     0\n",
       "isAdult           0\n",
       "startYear         0\n",
       "endYear           0\n",
       "runtimeMinutes    0\n",
       "genres            0\n",
       "dtype: int64"
      ]
     },
     "execution_count": 283,
     "metadata": {},
     "output_type": "execute_result"
    }
   ],
   "source": [
    "df_titles.dropna(inplace=True)\n",
    "df_titles.isna().sum()"
   ]
  },
  {
   "cell_type": "code",
   "execution_count": 284,
   "id": "11e8a7e2-69da-4717-a0f1-a15c7ee0606e",
   "metadata": {},
   "outputs": [
    {
     "name": "stdout",
     "output_type": "stream",
     "text": [
      "<class 'pandas.core.frame.DataFrame'>\n",
      "Index: 11218889 entries, 0 to 11219539\n",
      "Data columns (total 9 columns):\n",
      " #   Column          Dtype \n",
      "---  ------          ----- \n",
      " 0   tconst          object\n",
      " 1   titleType       object\n",
      " 2   primaryTitle    object\n",
      " 3   originalTitle   object\n",
      " 4   isAdult         object\n",
      " 5   startYear       object\n",
      " 6   endYear         object\n",
      " 7   runtimeMinutes  object\n",
      " 8   genres          object\n",
      "dtypes: object(9)\n",
      "memory usage: 855.9+ MB\n"
     ]
    },
    {
     "data": {
      "text/plain": [
       "(11218889, 9)"
      ]
     },
     "execution_count": 284,
     "metadata": {},
     "output_type": "execute_result"
    }
   ],
   "source": [
    "df_titles.info()\n",
    "df_titles.shape"
   ]
  },
  {
   "cell_type": "code",
   "execution_count": 285,
   "id": "9dd32689-77c6-4694-8876-81c932160edd",
   "metadata": {},
   "outputs": [],
   "source": [
    "# drop the end year column\n",
    "df_titles.drop('endYear', axis=1, inplace=True)"
   ]
  },
  {
   "cell_type": "code",
   "execution_count": 286,
   "id": "11137792-cb57-4920-8107-4b6e0bd99f50",
   "metadata": {},
   "outputs": [
    {
     "data": {
      "text/plain": [
       "0"
      ]
     },
     "execution_count": 286,
     "metadata": {},
     "output_type": "execute_result"
    }
   ],
   "source": [
    "# check for duplicates\n",
    "df_titles.duplicated().sum()"
   ]
  },
  {
   "cell_type": "code",
   "execution_count": 287,
   "id": "5540bc13-4626-48c3-99a7-053115e1ffc3",
   "metadata": {},
   "outputs": [
    {
     "name": "stdout",
     "output_type": "stream",
     "text": [
      "<class 'pandas.core.frame.DataFrame'>\n",
      "Index: 696600 entries, 8 to 11219490\n",
      "Data columns (total 8 columns):\n",
      " #   Column          Non-Null Count   Dtype \n",
      "---  ------          --------------   ----- \n",
      " 0   tconst          696600 non-null  object\n",
      " 1   titleType       696600 non-null  object\n",
      " 2   primaryTitle    696600 non-null  object\n",
      " 3   originalTitle   696600 non-null  object\n",
      " 4   isAdult         696600 non-null  object\n",
      " 5   startYear       696600 non-null  object\n",
      " 6   runtimeMinutes  696600 non-null  object\n",
      " 7   genres          696600 non-null  object\n",
      "dtypes: object(8)\n",
      "memory usage: 47.8+ MB\n"
     ]
    },
    {
     "data": {
      "text/plain": [
       "(696600, 8)"
      ]
     },
     "execution_count": 287,
     "metadata": {},
     "output_type": "execute_result"
    }
   ],
   "source": [
    "movies = df_titles[df_titles['titleType'] == 'movie']\n",
    "movies.info()\n",
    "movies.shape"
   ]
  },
  {
   "cell_type": "code",
   "execution_count": 288,
   "id": "08c1fb86-b816-4074-92f0-b9f31342f964",
   "metadata": {},
   "outputs": [
    {
     "data": {
      "text/html": [
       "<div>\n",
       "<style scoped>\n",
       "    .dataframe tbody tr th:only-of-type {\n",
       "        vertical-align: middle;\n",
       "    }\n",
       "\n",
       "    .dataframe tbody tr th {\n",
       "        vertical-align: top;\n",
       "    }\n",
       "\n",
       "    .dataframe thead th {\n",
       "        text-align: right;\n",
       "    }\n",
       "</style>\n",
       "<table border=\"1\" class=\"dataframe\">\n",
       "  <thead>\n",
       "    <tr style=\"text-align: right;\">\n",
       "      <th></th>\n",
       "      <th>tconst</th>\n",
       "      <th>titleType</th>\n",
       "      <th>primaryTitle</th>\n",
       "      <th>originalTitle</th>\n",
       "      <th>isAdult</th>\n",
       "      <th>startYear</th>\n",
       "      <th>runtimeMinutes</th>\n",
       "      <th>genres</th>\n",
       "    </tr>\n",
       "  </thead>\n",
       "  <tbody>\n",
       "    <tr>\n",
       "      <th>8</th>\n",
       "      <td>tt0000009</td>\n",
       "      <td>movie</td>\n",
       "      <td>Miss Jerry</td>\n",
       "      <td>Miss Jerry</td>\n",
       "      <td>0</td>\n",
       "      <td>1894</td>\n",
       "      <td>45</td>\n",
       "      <td>Romance</td>\n",
       "    </tr>\n",
       "    <tr>\n",
       "      <th>144</th>\n",
       "      <td>tt0000147</td>\n",
       "      <td>movie</td>\n",
       "      <td>The Corbett-Fitzsimmons Fight</td>\n",
       "      <td>The Corbett-Fitzsimmons Fight</td>\n",
       "      <td>0</td>\n",
       "      <td>1897</td>\n",
       "      <td>100</td>\n",
       "      <td>Documentary,News,Sport</td>\n",
       "    </tr>\n",
       "    <tr>\n",
       "      <th>498</th>\n",
       "      <td>tt0000502</td>\n",
       "      <td>movie</td>\n",
       "      <td>Bohemios</td>\n",
       "      <td>Bohemios</td>\n",
       "      <td>0</td>\n",
       "      <td>1905</td>\n",
       "      <td>100</td>\n",
       "      <td>\\N</td>\n",
       "    </tr>\n",
       "    <tr>\n",
       "      <th>570</th>\n",
       "      <td>tt0000574</td>\n",
       "      <td>movie</td>\n",
       "      <td>The Story of the Kelly Gang</td>\n",
       "      <td>The Story of the Kelly Gang</td>\n",
       "      <td>0</td>\n",
       "      <td>1906</td>\n",
       "      <td>70</td>\n",
       "      <td>Action,Adventure,Biography</td>\n",
       "    </tr>\n",
       "    <tr>\n",
       "      <th>587</th>\n",
       "      <td>tt0000591</td>\n",
       "      <td>movie</td>\n",
       "      <td>The Prodigal Son</td>\n",
       "      <td>L'enfant prodigue</td>\n",
       "      <td>0</td>\n",
       "      <td>1907</td>\n",
       "      <td>90</td>\n",
       "      <td>Drama</td>\n",
       "    </tr>\n",
       "  </tbody>\n",
       "</table>\n",
       "</div>"
      ],
      "text/plain": [
       "        tconst titleType                   primaryTitle  \\\n",
       "8    tt0000009     movie                     Miss Jerry   \n",
       "144  tt0000147     movie  The Corbett-Fitzsimmons Fight   \n",
       "498  tt0000502     movie                       Bohemios   \n",
       "570  tt0000574     movie    The Story of the Kelly Gang   \n",
       "587  tt0000591     movie               The Prodigal Son   \n",
       "\n",
       "                     originalTitle isAdult startYear runtimeMinutes  \\\n",
       "8                       Miss Jerry       0      1894             45   \n",
       "144  The Corbett-Fitzsimmons Fight       0      1897            100   \n",
       "498                       Bohemios       0      1905            100   \n",
       "570    The Story of the Kelly Gang       0      1906             70   \n",
       "587              L'enfant prodigue       0      1907             90   \n",
       "\n",
       "                         genres  \n",
       "8                       Romance  \n",
       "144      Documentary,News,Sport  \n",
       "498                          \\N  \n",
       "570  Action,Adventure,Biography  \n",
       "587                       Drama  "
      ]
     },
     "execution_count": 288,
     "metadata": {},
     "output_type": "execute_result"
    }
   ],
   "source": [
    "movies.head()\n"
   ]
  },
  {
   "cell_type": "code",
   "execution_count": null,
   "id": "5bb993ec-f0c6-41be-99c0-c27f5b09d014",
   "metadata": {},
   "outputs": [],
   "source": []
  },
  {
   "cell_type": "code",
   "execution_count": 289,
   "id": "f08a2fb8-b3ec-41a0-8214-b1c46205d59e",
   "metadata": {},
   "outputs": [],
   "source": [
    "# drop the \\N in the runtime column, then type cast to int so we can find the mean\n",
    "movies_dropped = movies[movies['runtimeMinutes'] != '\\\\N']\n",
    "movies_dropped = movies_dropped.astype({'runtimeMinutes': 'int64'})\n",
    "movie_time_mean = movies_dropped['runtimeMinutes'].mean()"
   ]
  },
  {
   "cell_type": "markdown",
   "id": "6147d9d3-f8a3-43bc-ad3a-8f4f4a33e892",
   "metadata": {},
   "source": [
    "Replace the null values in movies \n"
   ]
  },
  {
   "cell_type": "code",
   "execution_count": 291,
   "id": "63ef694f-090e-4090-9780-a3b3af4e56c2",
   "metadata": {},
   "outputs": [
    {
     "data": {
      "text/plain": [
       "8            45\n",
       "144         100\n",
       "498         100\n",
       "570          70\n",
       "587          90\n",
       "           ... \n",
       "11219431     57\n",
       "11219458    100\n",
       "11219470     90\n",
       "11219480    116\n",
       "11219490     49\n",
       "Name: runtimeMinutes, Length: 696600, dtype: int64"
      ]
     },
     "execution_count": 291,
     "metadata": {},
     "output_type": "execute_result"
    }
   ],
   "source": [
    "# put the mean movies back into dropped rows\n",
    "def movie_times(time):\n",
    "    if time == '\\\\N':\n",
    "        return round(movie_time_mean)\n",
    "    else:\n",
    "        return int(time)\n",
    "\n",
    "\n",
    "movies['runtimeMinutes'].apply(movie_times)"
   ]
  },
  {
   "cell_type": "markdown",
   "id": "2c55a1dc-9658-488a-90d0-abf8a03e1052",
   "metadata": {},
   "source": [
    "# Crew DF Import"
   ]
  },
  {
   "cell_type": "code",
   "execution_count": 293,
   "id": "e008fe4f-81d1-4d7c-9389-994e4945c47b",
   "metadata": {},
   "outputs": [],
   "source": [
    "df_crew = pd.read_csv('../title.crew.tsv', sep='\\t')"
   ]
  },
  {
   "cell_type": "code",
   "execution_count": 294,
   "id": "bbc8f627-e554-42ad-84f8-a0ec7ed9dd8c",
   "metadata": {},
   "outputs": [
    {
     "name": "stdout",
     "output_type": "stream",
     "text": [
      "<class 'pandas.core.frame.DataFrame'>\n",
      "RangeIndex: 10553136 entries, 0 to 10553135\n",
      "Data columns (total 3 columns):\n",
      " #   Column     Dtype \n",
      "---  ------     ----- \n",
      " 0   tconst     object\n",
      " 1   directors  object\n",
      " 2   writers    object\n",
      "dtypes: object(3)\n",
      "memory usage: 241.5+ MB\n"
     ]
    }
   ],
   "source": [
    "df_crew.info()"
   ]
  },
  {
   "cell_type": "markdown",
   "id": "798320c7-6fed-4bd4-b42f-eef4eec285e4",
   "metadata": {},
   "source": [
    "Check data for issues"
   ]
  },
  {
   "cell_type": "code",
   "execution_count": 296,
   "id": "b64b073d-1113-4861-80c1-670f84902628",
   "metadata": {},
   "outputs": [
    {
     "data": {
      "text/plain": [
       "tconst       0\n",
       "directors    0\n",
       "writers      0\n",
       "dtype: int64"
      ]
     },
     "execution_count": 296,
     "metadata": {},
     "output_type": "execute_result"
    }
   ],
   "source": [
    "df_crew.isna().sum()"
   ]
  },
  {
   "cell_type": "code",
   "execution_count": 297,
   "id": "4b6f346a-3429-4ab2-90a8-522b580fe235",
   "metadata": {},
   "outputs": [
    {
     "data": {
      "text/plain": [
       "0"
      ]
     },
     "execution_count": 297,
     "metadata": {},
     "output_type": "execute_result"
    }
   ],
   "source": [
    "df_crew.duplicated().sum()"
   ]
  },
  {
   "cell_type": "code",
   "execution_count": 298,
   "id": "b3255342-be7a-4798-8187-f0920a3d43b1",
   "metadata": {},
   "outputs": [
    {
     "data": {
      "text/html": [
       "<div>\n",
       "<style scoped>\n",
       "    .dataframe tbody tr th:only-of-type {\n",
       "        vertical-align: middle;\n",
       "    }\n",
       "\n",
       "    .dataframe tbody tr th {\n",
       "        vertical-align: top;\n",
       "    }\n",
       "\n",
       "    .dataframe thead th {\n",
       "        text-align: right;\n",
       "    }\n",
       "</style>\n",
       "<table border=\"1\" class=\"dataframe\">\n",
       "  <thead>\n",
       "    <tr style=\"text-align: right;\">\n",
       "      <th></th>\n",
       "      <th>tconst</th>\n",
       "      <th>directors</th>\n",
       "      <th>writers</th>\n",
       "    </tr>\n",
       "  </thead>\n",
       "  <tbody>\n",
       "    <tr>\n",
       "      <th>0</th>\n",
       "      <td>tt0000001</td>\n",
       "      <td>nm0005690</td>\n",
       "      <td>\\N</td>\n",
       "    </tr>\n",
       "    <tr>\n",
       "      <th>1</th>\n",
       "      <td>tt0000002</td>\n",
       "      <td>nm0721526</td>\n",
       "      <td>\\N</td>\n",
       "    </tr>\n",
       "    <tr>\n",
       "      <th>2</th>\n",
       "      <td>tt0000003</td>\n",
       "      <td>nm0721526</td>\n",
       "      <td>\\N</td>\n",
       "    </tr>\n",
       "    <tr>\n",
       "      <th>3</th>\n",
       "      <td>tt0000004</td>\n",
       "      <td>nm0721526</td>\n",
       "      <td>\\N</td>\n",
       "    </tr>\n",
       "    <tr>\n",
       "      <th>4</th>\n",
       "      <td>tt0000005</td>\n",
       "      <td>nm0005690</td>\n",
       "      <td>\\N</td>\n",
       "    </tr>\n",
       "  </tbody>\n",
       "</table>\n",
       "</div>"
      ],
      "text/plain": [
       "      tconst  directors writers\n",
       "0  tt0000001  nm0005690      \\N\n",
       "1  tt0000002  nm0721526      \\N\n",
       "2  tt0000003  nm0721526      \\N\n",
       "3  tt0000004  nm0721526      \\N\n",
       "4  tt0000005  nm0005690      \\N"
      ]
     },
     "execution_count": 298,
     "metadata": {},
     "output_type": "execute_result"
    }
   ],
   "source": [
    "df_crew.head()"
   ]
  },
  {
   "cell_type": "markdown",
   "id": "beda3c99-c2f9-41f8-a585-d8c03a097a26",
   "metadata": {},
   "source": [
    "### Clean data"
   ]
  },
  {
   "cell_type": "code",
   "execution_count": 300,
   "id": "63d5d813-ccc2-4897-bc77-08576abc7559",
   "metadata": {},
   "outputs": [],
   "source": [
    "# drop writers\n",
    "df_crew.drop('writers', axis=1, inplace=True)"
   ]
  },
  {
   "cell_type": "markdown",
   "id": "b023e9cf-1d64-4b41-bfdb-67887fe2062d",
   "metadata": {},
   "source": [
    "#### Loop to check data for \\N value"
   ]
  },
  {
   "cell_type": "code",
   "execution_count": 302,
   "id": "48ab11f4-8635-421a-ba43-92c09c16fbd2",
   "metadata": {},
   "outputs": [
    {
     "data": {
      "text/plain": [
       "4027431"
      ]
     },
     "execution_count": 302,
     "metadata": {},
     "output_type": "execute_result"
    }
   ],
   "source": [
    "# check for \\N values\n",
    "def NA_values(drop):\n",
    "    count = 0\n",
    "\n",
    "    for row in drop:\n",
    "        if row == '\\\\N':\n",
    "            count +=1\n",
    "    return count\n",
    "\n",
    "NA_values(df_crew['directors'])"
   ]
  },
  {
   "cell_type": "code",
   "execution_count": 303,
   "id": "cc851e81-f98d-4c6b-b58d-dbe606eedb43",
   "metadata": {},
   "outputs": [
    {
     "data": {
      "text/plain": [
       "0"
      ]
     },
     "execution_count": 303,
     "metadata": {},
     "output_type": "execute_result"
    }
   ],
   "source": [
    "# drop blank directors\n",
    "dropped_directors = df_crew[df_crew['directors'] != '\\\\N']\n",
    "\n",
    "NA_values(dropped_directors['directors'])"
   ]
  },
  {
   "cell_type": "markdown",
   "id": "64a3076c-fa30-434b-8df7-3af08b924180",
   "metadata": {},
   "source": [
    "# Ratings DF import"
   ]
  },
  {
   "cell_type": "code",
   "execution_count": 305,
   "id": "bfafa7b0-4d92-4c9a-9f52-d7800ad10cfe",
   "metadata": {},
   "outputs": [],
   "source": [
    "df_ratings = pd.read_csv('../title.ratings.tsv', sep='\\t')"
   ]
  },
  {
   "cell_type": "markdown",
   "id": "df42913c-b3a2-434c-86b5-852101e129d8",
   "metadata": {},
   "source": [
    "Check data fro issues"
   ]
  },
  {
   "cell_type": "code",
   "execution_count": 307,
   "id": "54244be6-821e-4275-9025-03eff300ee66",
   "metadata": {},
   "outputs": [
    {
     "name": "stdout",
     "output_type": "stream",
     "text": [
      "<class 'pandas.core.frame.DataFrame'>\n",
      "RangeIndex: 1495988 entries, 0 to 1495987\n",
      "Data columns (total 3 columns):\n",
      " #   Column         Non-Null Count    Dtype  \n",
      "---  ------         --------------    -----  \n",
      " 0   tconst         1495988 non-null  object \n",
      " 1   averageRating  1495988 non-null  float64\n",
      " 2   numVotes       1495988 non-null  int64  \n",
      "dtypes: float64(1), int64(1), object(1)\n",
      "memory usage: 34.2+ MB\n"
     ]
    }
   ],
   "source": [
    "df_ratings.info()"
   ]
  },
  {
   "cell_type": "code",
   "execution_count": 308,
   "id": "ce12e330-59e4-490b-b303-531aa1983c85",
   "metadata": {},
   "outputs": [
    {
     "data": {
      "text/plain": [
       "0"
      ]
     },
     "execution_count": 308,
     "metadata": {},
     "output_type": "execute_result"
    }
   ],
   "source": [
    "df_ratings.duplicated().sum()"
   ]
  },
  {
   "cell_type": "code",
   "execution_count": 309,
   "id": "278ac3a4-2f6f-42b4-a7a5-8fdf76a02631",
   "metadata": {},
   "outputs": [
    {
     "data": {
      "text/plain": [
       "tconst           0\n",
       "averageRating    0\n",
       "numVotes         0\n",
       "dtype: int64"
      ]
     },
     "execution_count": 309,
     "metadata": {},
     "output_type": "execute_result"
    }
   ],
   "source": [
    "df_ratings.isna().sum()"
   ]
  },
  {
   "cell_type": "code",
   "execution_count": 310,
   "id": "3acffb2f-e41e-4823-a907-cb20f95f65e9",
   "metadata": {},
   "outputs": [
    {
     "name": "stdout",
     "output_type": "stream",
     "text": [
      "0\n",
      "0\n"
     ]
    }
   ],
   "source": [
    "# check for \\N values\n",
    "print(NA_values(df_ratings['averageRating']))\n",
    "print(NA_values(df_ratings['numVotes']))"
   ]
  },
  {
   "cell_type": "code",
   "execution_count": null,
   "id": "30633486-164e-4051-ba83-506ed2d830eb",
   "metadata": {},
   "outputs": [],
   "source": []
  },
  {
   "cell_type": "code",
   "execution_count": null,
   "id": "734a0bf4-7956-4b4f-8cd6-f95fa3876f8c",
   "metadata": {},
   "outputs": [],
   "source": []
  },
  {
   "cell_type": "markdown",
   "id": "94b0d5c0-3e03-4fd7-8936-e3cd3cb0b238",
   "metadata": {},
   "source": [
    "# People DF Import"
   ]
  },
  {
   "cell_type": "code",
   "execution_count": 312,
   "id": "87e41b27-f3a5-4d51-9388-cc6f8b8bed7d",
   "metadata": {},
   "outputs": [
    {
     "name": "stdout",
     "output_type": "stream",
     "text": [
      "<class 'pandas.core.frame.DataFrame'>\n",
      "RangeIndex: 13929073 entries, 0 to 13929072\n",
      "Data columns (total 4 columns):\n",
      " #   Column             Dtype \n",
      "---  ------             ----- \n",
      " 0   nconst             object\n",
      " 1   primaryName        object\n",
      " 2   primaryProfession  object\n",
      " 3   knownForTitles     object\n",
      "dtypes: object(4)\n",
      "memory usage: 425.1+ MB\n"
     ]
    }
   ],
   "source": [
    "df_people = pd.read_csv(\"../name.basics.tsv\", sep=\"\\t\")\n",
    "df_people.drop(['birthYear', 'deathYear'], axis=1, inplace=True)\n",
    "df_people.info()"
   ]
  },
  {
   "cell_type": "code",
   "execution_count": 313,
   "id": "157cb751-2f29-450e-979b-cddde7a13d97",
   "metadata": {},
   "outputs": [
    {
     "data": {
      "text/plain": [
       "(13929073, 4)"
      ]
     },
     "execution_count": 313,
     "metadata": {},
     "output_type": "execute_result"
    }
   ],
   "source": [
    "df_people.shape"
   ]
  },
  {
   "cell_type": "code",
   "execution_count": 314,
   "id": "05f41062-8d00-4736-b037-c6f1ad536ed3",
   "metadata": {},
   "outputs": [
    {
     "data": {
      "text/plain": [
       "0"
      ]
     },
     "execution_count": 314,
     "metadata": {},
     "output_type": "execute_result"
    }
   ],
   "source": [
    "df_people.duplicated().sum()"
   ]
  },
  {
   "cell_type": "code",
   "execution_count": 315,
   "id": "b92f9d22-6fb0-444c-b4b4-8bb59038a11d",
   "metadata": {},
   "outputs": [
    {
     "name": "stdout",
     "output_type": "stream",
     "text": [
      "51\n",
      "2699781\n",
      "1571008\n"
     ]
    }
   ],
   "source": [
    "print(NA_values(df_people['primaryName']))\n",
    "print(NA_values(df_people['primaryProfession']))\n",
    "print(NA_values(df_people['knownForTitles']))"
   ]
  },
  {
   "cell_type": "markdown",
   "id": "cecda102-1372-487a-b887-0bb3a213efa3",
   "metadata": {},
   "source": [
    "### Clean the data"
   ]
  },
  {
   "cell_type": "code",
   "execution_count": null,
   "id": "ede460f2-8c2c-41d8-a2b8-c516fbdf29a9",
   "metadata": {},
   "outputs": [],
   "source": []
  }
 ],
 "metadata": {
  "kernelspec": {
   "display_name": "Python 3 (ipykernel)",
   "language": "python",
   "name": "python3"
  },
  "language_info": {
   "codemirror_mode": {
    "name": "ipython",
    "version": 3
   },
   "file_extension": ".py",
   "mimetype": "text/x-python",
   "name": "python",
   "nbconvert_exporter": "python",
   "pygments_lexer": "ipython3",
   "version": "3.12.4"
  }
 },
 "nbformat": 4,
 "nbformat_minor": 5
}
