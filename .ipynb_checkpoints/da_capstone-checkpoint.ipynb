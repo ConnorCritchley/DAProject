{
 "cells": [
  {
   "cell_type": "code",
   "execution_count": 1,
   "id": "1e964e17-59f8-4bd0-a582-a6676adaff04",
   "metadata": {},
   "outputs": [],
   "source": [
    "import pandas as pd\n",
    "import numpy as np\n",
    "import matplotlib.pyplot as plt\n",
    "import seaborn as sns"
   ]
  },
  {
   "cell_type": "markdown",
   "id": "635c6962-989f-4412-b692-a6706b438280",
   "metadata": {},
   "source": [
    "# Title DF Import"
   ]
  },
  {
   "cell_type": "code",
   "execution_count": 3,
   "id": "0d44bf71-2415-4568-a01c-16972ecaa8bc",
   "metadata": {},
   "outputs": [
    {
     "name": "stderr",
     "output_type": "stream",
     "text": [
      "C:\\Users\\kerrj\\AppData\\Local\\Temp\\ipykernel_71748\\449990169.py:1: DtypeWarning: Columns (4) have mixed types. Specify dtype option on import or set low_memory=False.\n",
      "  df_titles = pd.read_csv('../title.basics.tsv', sep='\\t')\n"
     ]
    },
    {
     "data": {
      "text/plain": [
       "tconst              0\n",
       "titleType           0\n",
       "primaryTitle       19\n",
       "originalTitle      19\n",
       "isAdult             0\n",
       "startYear           0\n",
       "endYear             0\n",
       "runtimeMinutes      0\n",
       "genres            632\n",
       "dtype: int64"
      ]
     },
     "execution_count": 3,
     "metadata": {},
     "output_type": "execute_result"
    }
   ],
   "source": [
    "df_titles = pd.read_csv('../title.basics.tsv', sep='\\t')\n",
    "\n",
    "df_titles.isna().sum()"
   ]
  },
  {
   "cell_type": "markdown",
   "id": "1229f9cb-a8f5-4190-ad05-e4700dbf3bc4",
   "metadata": {},
   "source": [
    "### Clean Title Basic"
   ]
  },
  {
   "cell_type": "code",
   "execution_count": 5,
   "id": "fa3a9009-d1f0-40d8-a51a-7e5e8bf2614b",
   "metadata": {},
   "outputs": [
    {
     "data": {
      "text/plain": [
       "tconst            0\n",
       "titleType         0\n",
       "primaryTitle      0\n",
       "originalTitle     0\n",
       "isAdult           0\n",
       "startYear         0\n",
       "endYear           0\n",
       "runtimeMinutes    0\n",
       "genres            0\n",
       "dtype: int64"
      ]
     },
     "execution_count": 5,
     "metadata": {},
     "output_type": "execute_result"
    }
   ],
   "source": [
    "df_titles.dropna(inplace=True)\n",
    "df_titles.isna().sum()"
   ]
  },
  {
   "cell_type": "code",
   "execution_count": 6,
   "id": "11e8a7e2-69da-4717-a0f1-a15c7ee0606e",
   "metadata": {},
   "outputs": [
    {
     "name": "stdout",
     "output_type": "stream",
     "text": [
      "<class 'pandas.core.frame.DataFrame'>\n",
      "Index: 11218889 entries, 0 to 11219539\n",
      "Data columns (total 9 columns):\n",
      " #   Column          Dtype \n",
      "---  ------          ----- \n",
      " 0   tconst          object\n",
      " 1   titleType       object\n",
      " 2   primaryTitle    object\n",
      " 3   originalTitle   object\n",
      " 4   isAdult         object\n",
      " 5   startYear       object\n",
      " 6   endYear         object\n",
      " 7   runtimeMinutes  object\n",
      " 8   genres          object\n",
      "dtypes: object(9)\n",
      "memory usage: 855.9+ MB\n"
     ]
    },
    {
     "data": {
      "text/plain": [
       "(11218889, 9)"
      ]
     },
     "execution_count": 6,
     "metadata": {},
     "output_type": "execute_result"
    }
   ],
   "source": [
    "df_titles.info()\n",
    "df_titles.shape"
   ]
  },
  {
   "cell_type": "code",
   "execution_count": 7,
   "id": "9dd32689-77c6-4694-8876-81c932160edd",
   "metadata": {},
   "outputs": [],
   "source": [
    "# drop the end year column\n",
    "df_titles.drop('endYear', axis=1, inplace=True)"
   ]
  },
  {
   "cell_type": "code",
   "execution_count": 8,
   "id": "11137792-cb57-4920-8107-4b6e0bd99f50",
   "metadata": {},
   "outputs": [
    {
     "data": {
      "text/plain": [
       "0"
      ]
     },
     "execution_count": 8,
     "metadata": {},
     "output_type": "execute_result"
    }
   ],
   "source": [
    "# check for duplicates\n",
    "df_titles.duplicated().sum()"
   ]
  },
  {
   "cell_type": "code",
   "execution_count": 9,
   "id": "5540bc13-4626-48c3-99a7-053115e1ffc3",
   "metadata": {},
   "outputs": [
    {
     "name": "stdout",
     "output_type": "stream",
     "text": [
      "<class 'pandas.core.frame.DataFrame'>\n",
      "Index: 696600 entries, 8 to 11219490\n",
      "Data columns (total 8 columns):\n",
      " #   Column          Non-Null Count   Dtype \n",
      "---  ------          --------------   ----- \n",
      " 0   tconst          696600 non-null  object\n",
      " 1   titleType       696600 non-null  object\n",
      " 2   primaryTitle    696600 non-null  object\n",
      " 3   originalTitle   696600 non-null  object\n",
      " 4   isAdult         696600 non-null  object\n",
      " 5   startYear       696600 non-null  object\n",
      " 6   runtimeMinutes  696600 non-null  object\n",
      " 7   genres          696600 non-null  object\n",
      "dtypes: object(8)\n",
      "memory usage: 47.8+ MB\n"
     ]
    },
    {
     "data": {
      "text/plain": [
       "(696600, 8)"
      ]
     },
     "execution_count": 9,
     "metadata": {},
     "output_type": "execute_result"
    }
   ],
   "source": [
    "movies = df_titles[df_titles['titleType'] == 'movie']\n",
    "movies.info()\n",
    "movies.shape"
   ]
  },
  {
   "cell_type": "code",
   "execution_count": 10,
   "id": "08c1fb86-b816-4074-92f0-b9f31342f964",
   "metadata": {},
   "outputs": [
    {
     "data": {
      "text/html": [
       "<div>\n",
       "<style scoped>\n",
       "    .dataframe tbody tr th:only-of-type {\n",
       "        vertical-align: middle;\n",
       "    }\n",
       "\n",
       "    .dataframe tbody tr th {\n",
       "        vertical-align: top;\n",
       "    }\n",
       "\n",
       "    .dataframe thead th {\n",
       "        text-align: right;\n",
       "    }\n",
       "</style>\n",
       "<table border=\"1\" class=\"dataframe\">\n",
       "  <thead>\n",
       "    <tr style=\"text-align: right;\">\n",
       "      <th></th>\n",
       "      <th>tconst</th>\n",
       "      <th>titleType</th>\n",
       "      <th>primaryTitle</th>\n",
       "      <th>originalTitle</th>\n",
       "      <th>isAdult</th>\n",
       "      <th>startYear</th>\n",
       "      <th>runtimeMinutes</th>\n",
       "      <th>genres</th>\n",
       "    </tr>\n",
       "  </thead>\n",
       "  <tbody>\n",
       "    <tr>\n",
       "      <th>8</th>\n",
       "      <td>tt0000009</td>\n",
       "      <td>movie</td>\n",
       "      <td>Miss Jerry</td>\n",
       "      <td>Miss Jerry</td>\n",
       "      <td>0</td>\n",
       "      <td>1894</td>\n",
       "      <td>45</td>\n",
       "      <td>Romance</td>\n",
       "    </tr>\n",
       "    <tr>\n",
       "      <th>144</th>\n",
       "      <td>tt0000147</td>\n",
       "      <td>movie</td>\n",
       "      <td>The Corbett-Fitzsimmons Fight</td>\n",
       "      <td>The Corbett-Fitzsimmons Fight</td>\n",
       "      <td>0</td>\n",
       "      <td>1897</td>\n",
       "      <td>100</td>\n",
       "      <td>Documentary,News,Sport</td>\n",
       "    </tr>\n",
       "    <tr>\n",
       "      <th>498</th>\n",
       "      <td>tt0000502</td>\n",
       "      <td>movie</td>\n",
       "      <td>Bohemios</td>\n",
       "      <td>Bohemios</td>\n",
       "      <td>0</td>\n",
       "      <td>1905</td>\n",
       "      <td>100</td>\n",
       "      <td>\\N</td>\n",
       "    </tr>\n",
       "    <tr>\n",
       "      <th>570</th>\n",
       "      <td>tt0000574</td>\n",
       "      <td>movie</td>\n",
       "      <td>The Story of the Kelly Gang</td>\n",
       "      <td>The Story of the Kelly Gang</td>\n",
       "      <td>0</td>\n",
       "      <td>1906</td>\n",
       "      <td>70</td>\n",
       "      <td>Action,Adventure,Biography</td>\n",
       "    </tr>\n",
       "    <tr>\n",
       "      <th>587</th>\n",
       "      <td>tt0000591</td>\n",
       "      <td>movie</td>\n",
       "      <td>The Prodigal Son</td>\n",
       "      <td>L'enfant prodigue</td>\n",
       "      <td>0</td>\n",
       "      <td>1907</td>\n",
       "      <td>90</td>\n",
       "      <td>Drama</td>\n",
       "    </tr>\n",
       "  </tbody>\n",
       "</table>\n",
       "</div>"
      ],
      "text/plain": [
       "        tconst titleType                   primaryTitle  \\\n",
       "8    tt0000009     movie                     Miss Jerry   \n",
       "144  tt0000147     movie  The Corbett-Fitzsimmons Fight   \n",
       "498  tt0000502     movie                       Bohemios   \n",
       "570  tt0000574     movie    The Story of the Kelly Gang   \n",
       "587  tt0000591     movie               The Prodigal Son   \n",
       "\n",
       "                     originalTitle isAdult startYear runtimeMinutes  \\\n",
       "8                       Miss Jerry       0      1894             45   \n",
       "144  The Corbett-Fitzsimmons Fight       0      1897            100   \n",
       "498                       Bohemios       0      1905            100   \n",
       "570    The Story of the Kelly Gang       0      1906             70   \n",
       "587              L'enfant prodigue       0      1907             90   \n",
       "\n",
       "                         genres  \n",
       "8                       Romance  \n",
       "144      Documentary,News,Sport  \n",
       "498                          \\N  \n",
       "570  Action,Adventure,Biography  \n",
       "587                       Drama  "
      ]
     },
     "execution_count": 10,
     "metadata": {},
     "output_type": "execute_result"
    }
   ],
   "source": [
    "movies.head()\n"
   ]
  },
  {
   "cell_type": "code",
   "execution_count": null,
   "id": "5bb993ec-f0c6-41be-99c0-c27f5b09d014",
   "metadata": {},
   "outputs": [],
   "source": []
  },
  {
   "cell_type": "code",
   "execution_count": 11,
   "id": "f08a2fb8-b3ec-41a0-8214-b1c46205d59e",
   "metadata": {},
   "outputs": [],
   "source": [
    "# drop the \\N in the runtime column, then type cast to int so we can find the mean\n",
    "movies_dropped = movies[movies['runtimeMinutes'] != '\\\\N']\n",
    "movies_dropped = movies_dropped.astype({'runtimeMinutes': 'int64'})\n",
    "# movie_time_mean = movies_dropped['runtimeMinutes'].mean()"
   ]
  },
  {
   "cell_type": "markdown",
   "id": "6147d9d3-f8a3-43bc-ad3a-8f4f4a33e892",
   "metadata": {},
   "source": [
    "Replace the null values in movies \n"
   ]
  },
  {
   "cell_type": "code",
   "execution_count": 78,
   "id": "63ef694f-090e-4090-9780-a3b3af4e56c2",
   "metadata": {},
   "outputs": [
    {
     "name": "stderr",
     "output_type": "stream",
     "text": [
      "C:\\Users\\kerrj\\AppData\\Local\\Temp\\ipykernel_71748\\900938282.py:9: SettingWithCopyWarning: \n",
      "A value is trying to be set on a copy of a slice from a DataFrame.\n",
      "Try using .loc[row_indexer,col_indexer] = value instead\n",
      "\n",
      "See the caveats in the documentation: https://pandas.pydata.org/pandas-docs/stable/user_guide/indexing.html#returning-a-view-versus-a-copy\n",
      "  movies['runtimeMinutes'] = movies['runtimeMinutes'].apply(movie_times)\n"
     ]
    }
   ],
   "source": [
    "# put the mean movies back into dropped rows\n",
    "# def movie_times(time):\n",
    "#     if time == '\\\\N':\n",
    "#         return round(movie_time_mean)\n",
    "#     else:\n",
    "#         return int(time)\n",
    "\n",
    "\n",
    "# movies['runtimeMinutes'] = movies['runtimeMinutes'].apply(movie_times)"
   ]
  },
  {
   "cell_type": "code",
   "execution_count": 70,
   "id": "0a5ad30c-bd17-43ae-8f0d-5d5557587c07",
   "metadata": {},
   "outputs": [
    {
     "data": {
      "text/html": [
       "<div>\n",
       "<style scoped>\n",
       "    .dataframe tbody tr th:only-of-type {\n",
       "        vertical-align: middle;\n",
       "    }\n",
       "\n",
       "    .dataframe tbody tr th {\n",
       "        vertical-align: top;\n",
       "    }\n",
       "\n",
       "    .dataframe thead th {\n",
       "        text-align: right;\n",
       "    }\n",
       "</style>\n",
       "<table border=\"1\" class=\"dataframe\">\n",
       "  <thead>\n",
       "    <tr style=\"text-align: right;\">\n",
       "      <th></th>\n",
       "      <th>tconst</th>\n",
       "      <th>titleType</th>\n",
       "      <th>primaryTitle</th>\n",
       "      <th>originalTitle</th>\n",
       "      <th>isAdult</th>\n",
       "      <th>startYear</th>\n",
       "      <th>runtimeMinutes</th>\n",
       "      <th>genres</th>\n",
       "    </tr>\n",
       "  </thead>\n",
       "  <tbody>\n",
       "    <tr>\n",
       "      <th>8</th>\n",
       "      <td>tt0000009</td>\n",
       "      <td>movie</td>\n",
       "      <td>Miss Jerry</td>\n",
       "      <td>Miss Jerry</td>\n",
       "      <td>0</td>\n",
       "      <td>1894</td>\n",
       "      <td>45</td>\n",
       "      <td>Romance</td>\n",
       "    </tr>\n",
       "    <tr>\n",
       "      <th>144</th>\n",
       "      <td>tt0000147</td>\n",
       "      <td>movie</td>\n",
       "      <td>The Corbett-Fitzsimmons Fight</td>\n",
       "      <td>The Corbett-Fitzsimmons Fight</td>\n",
       "      <td>0</td>\n",
       "      <td>1897</td>\n",
       "      <td>100</td>\n",
       "      <td>Documentary,News,Sport</td>\n",
       "    </tr>\n",
       "    <tr>\n",
       "      <th>498</th>\n",
       "      <td>tt0000502</td>\n",
       "      <td>movie</td>\n",
       "      <td>Bohemios</td>\n",
       "      <td>Bohemios</td>\n",
       "      <td>0</td>\n",
       "      <td>1905</td>\n",
       "      <td>100</td>\n",
       "      <td>\\N</td>\n",
       "    </tr>\n",
       "    <tr>\n",
       "      <th>570</th>\n",
       "      <td>tt0000574</td>\n",
       "      <td>movie</td>\n",
       "      <td>The Story of the Kelly Gang</td>\n",
       "      <td>The Story of the Kelly Gang</td>\n",
       "      <td>0</td>\n",
       "      <td>1906</td>\n",
       "      <td>70</td>\n",
       "      <td>Action,Adventure,Biography</td>\n",
       "    </tr>\n",
       "    <tr>\n",
       "      <th>587</th>\n",
       "      <td>tt0000591</td>\n",
       "      <td>movie</td>\n",
       "      <td>The Prodigal Son</td>\n",
       "      <td>L'enfant prodigue</td>\n",
       "      <td>0</td>\n",
       "      <td>1907</td>\n",
       "      <td>90</td>\n",
       "      <td>Drama</td>\n",
       "    </tr>\n",
       "    <tr>\n",
       "      <th>610</th>\n",
       "      <td>tt0000615</td>\n",
       "      <td>movie</td>\n",
       "      <td>Robbery Under Arms</td>\n",
       "      <td>Robbery Under Arms</td>\n",
       "      <td>0</td>\n",
       "      <td>1907</td>\n",
       "      <td>\\N</td>\n",
       "      <td>Drama</td>\n",
       "    </tr>\n",
       "    <tr>\n",
       "      <th>625</th>\n",
       "      <td>tt0000630</td>\n",
       "      <td>movie</td>\n",
       "      <td>Hamlet</td>\n",
       "      <td>Amleto</td>\n",
       "      <td>0</td>\n",
       "      <td>1908</td>\n",
       "      <td>\\N</td>\n",
       "      <td>Drama</td>\n",
       "    </tr>\n",
       "    <tr>\n",
       "      <th>668</th>\n",
       "      <td>tt0000675</td>\n",
       "      <td>movie</td>\n",
       "      <td>Don Quijote</td>\n",
       "      <td>Don Quijote</td>\n",
       "      <td>0</td>\n",
       "      <td>1908</td>\n",
       "      <td>\\N</td>\n",
       "      <td>Drama</td>\n",
       "    </tr>\n",
       "    <tr>\n",
       "      <th>672</th>\n",
       "      <td>tt0000679</td>\n",
       "      <td>movie</td>\n",
       "      <td>The Fairylogue and Radio-Plays</td>\n",
       "      <td>The Fairylogue and Radio-Plays</td>\n",
       "      <td>0</td>\n",
       "      <td>1908</td>\n",
       "      <td>120</td>\n",
       "      <td>Adventure,Fantasy</td>\n",
       "    </tr>\n",
       "    <tr>\n",
       "      <th>828</th>\n",
       "      <td>tt0000838</td>\n",
       "      <td>movie</td>\n",
       "      <td>A Cultura do Cacau</td>\n",
       "      <td>A Cultura do Cacau</td>\n",
       "      <td>0</td>\n",
       "      <td>1909</td>\n",
       "      <td>\\N</td>\n",
       "      <td>\\N</td>\n",
       "    </tr>\n",
       "    <tr>\n",
       "      <th>832</th>\n",
       "      <td>tt0000842</td>\n",
       "      <td>movie</td>\n",
       "      <td>De Garraf a Barcelona</td>\n",
       "      <td>De Garraf a Barcelona</td>\n",
       "      <td>0</td>\n",
       "      <td>1909</td>\n",
       "      <td>\\N</td>\n",
       "      <td>\\N</td>\n",
       "    </tr>\n",
       "    <tr>\n",
       "      <th>836</th>\n",
       "      <td>tt0000846</td>\n",
       "      <td>movie</td>\n",
       "      <td>Un día en Xochimilco</td>\n",
       "      <td>Un día en Xochimilco</td>\n",
       "      <td>0</td>\n",
       "      <td>1909</td>\n",
       "      <td>\\N</td>\n",
       "      <td>\\N</td>\n",
       "    </tr>\n",
       "    <tr>\n",
       "      <th>840</th>\n",
       "      <td>tt0000850</td>\n",
       "      <td>movie</td>\n",
       "      <td>Los dos hermanos</td>\n",
       "      <td>Los dos hermanos</td>\n",
       "      <td>0</td>\n",
       "      <td>1909</td>\n",
       "      <td>\\N</td>\n",
       "      <td>\\N</td>\n",
       "    </tr>\n",
       "    <tr>\n",
       "      <th>849</th>\n",
       "      <td>tt0000859</td>\n",
       "      <td>movie</td>\n",
       "      <td>Fabricación del corcho en Sant Feliu de Guixols</td>\n",
       "      <td>Fabricación del corcho en Sant Feliu de Guixols</td>\n",
       "      <td>0</td>\n",
       "      <td>1909</td>\n",
       "      <td>\\N</td>\n",
       "      <td>\\N</td>\n",
       "    </tr>\n",
       "    <tr>\n",
       "      <th>852</th>\n",
       "      <td>tt0000862</td>\n",
       "      <td>movie</td>\n",
       "      <td>Faldgruben</td>\n",
       "      <td>Faldgruben</td>\n",
       "      <td>0</td>\n",
       "      <td>1909</td>\n",
       "      <td>\\N</td>\n",
       "      <td>\\N</td>\n",
       "    </tr>\n",
       "    <tr>\n",
       "      <th>857</th>\n",
       "      <td>tt0000867</td>\n",
       "      <td>movie</td>\n",
       "      <td>Fiesta de toros</td>\n",
       "      <td>Fiesta de toros</td>\n",
       "      <td>0</td>\n",
       "      <td>1909</td>\n",
       "      <td>\\N</td>\n",
       "      <td>\\N</td>\n",
       "    </tr>\n",
       "    <tr>\n",
       "      <th>858</th>\n",
       "      <td>tt0000868</td>\n",
       "      <td>movie</td>\n",
       "      <td>Fiestas de Santa Lucía - Belenes</td>\n",
       "      <td>Fiestas de Santa Lucía - Belenes</td>\n",
       "      <td>0</td>\n",
       "      <td>1909</td>\n",
       "      <td>\\N</td>\n",
       "      <td>\\N</td>\n",
       "    </tr>\n",
       "    <tr>\n",
       "      <th>859</th>\n",
       "      <td>tt0000869</td>\n",
       "      <td>movie</td>\n",
       "      <td>Fiestas en La Garriga</td>\n",
       "      <td>Fiestas en La Garriga</td>\n",
       "      <td>0</td>\n",
       "      <td>1909</td>\n",
       "      <td>\\N</td>\n",
       "      <td>\\N</td>\n",
       "    </tr>\n",
       "    <tr>\n",
       "      <th>869</th>\n",
       "      <td>tt0000879</td>\n",
       "      <td>movie</td>\n",
       "      <td>Gira política de Madero y Pino Suárez</td>\n",
       "      <td>Gira política de Madero y Pino Suárez</td>\n",
       "      <td>0</td>\n",
       "      <td>1909</td>\n",
       "      <td>\\N</td>\n",
       "      <td>\\N</td>\n",
       "    </tr>\n",
       "    <tr>\n",
       "      <th>876</th>\n",
       "      <td>tt0000886</td>\n",
       "      <td>movie</td>\n",
       "      <td>Hamlet, Prince of Denmark</td>\n",
       "      <td>Hamlet</td>\n",
       "      <td>0</td>\n",
       "      <td>1910</td>\n",
       "      <td>\\N</td>\n",
       "      <td>Drama</td>\n",
       "    </tr>\n",
       "  </tbody>\n",
       "</table>\n",
       "</div>"
      ],
      "text/plain": [
       "        tconst titleType                                     primaryTitle  \\\n",
       "8    tt0000009     movie                                       Miss Jerry   \n",
       "144  tt0000147     movie                    The Corbett-Fitzsimmons Fight   \n",
       "498  tt0000502     movie                                         Bohemios   \n",
       "570  tt0000574     movie                      The Story of the Kelly Gang   \n",
       "587  tt0000591     movie                                 The Prodigal Son   \n",
       "610  tt0000615     movie                               Robbery Under Arms   \n",
       "625  tt0000630     movie                                           Hamlet   \n",
       "668  tt0000675     movie                                      Don Quijote   \n",
       "672  tt0000679     movie                   The Fairylogue and Radio-Plays   \n",
       "828  tt0000838     movie                               A Cultura do Cacau   \n",
       "832  tt0000842     movie                            De Garraf a Barcelona   \n",
       "836  tt0000846     movie                             Un día en Xochimilco   \n",
       "840  tt0000850     movie                                 Los dos hermanos   \n",
       "849  tt0000859     movie  Fabricación del corcho en Sant Feliu de Guixols   \n",
       "852  tt0000862     movie                                       Faldgruben   \n",
       "857  tt0000867     movie                                  Fiesta de toros   \n",
       "858  tt0000868     movie                 Fiestas de Santa Lucía - Belenes   \n",
       "859  tt0000869     movie                            Fiestas en La Garriga   \n",
       "869  tt0000879     movie            Gira política de Madero y Pino Suárez   \n",
       "876  tt0000886     movie                        Hamlet, Prince of Denmark   \n",
       "\n",
       "                                       originalTitle isAdult startYear  \\\n",
       "8                                         Miss Jerry       0      1894   \n",
       "144                    The Corbett-Fitzsimmons Fight       0      1897   \n",
       "498                                         Bohemios       0      1905   \n",
       "570                      The Story of the Kelly Gang       0      1906   \n",
       "587                                L'enfant prodigue       0      1907   \n",
       "610                               Robbery Under Arms       0      1907   \n",
       "625                                           Amleto       0      1908   \n",
       "668                                      Don Quijote       0      1908   \n",
       "672                   The Fairylogue and Radio-Plays       0      1908   \n",
       "828                               A Cultura do Cacau       0      1909   \n",
       "832                            De Garraf a Barcelona       0      1909   \n",
       "836                             Un día en Xochimilco       0      1909   \n",
       "840                                 Los dos hermanos       0      1909   \n",
       "849  Fabricación del corcho en Sant Feliu de Guixols       0      1909   \n",
       "852                                       Faldgruben       0      1909   \n",
       "857                                  Fiesta de toros       0      1909   \n",
       "858                 Fiestas de Santa Lucía - Belenes       0      1909   \n",
       "859                            Fiestas en La Garriga       0      1909   \n",
       "869            Gira política de Madero y Pino Suárez       0      1909   \n",
       "876                                           Hamlet       0      1910   \n",
       "\n",
       "    runtimeMinutes                      genres  \n",
       "8               45                     Romance  \n",
       "144            100      Documentary,News,Sport  \n",
       "498            100                          \\N  \n",
       "570             70  Action,Adventure,Biography  \n",
       "587             90                       Drama  \n",
       "610             \\N                       Drama  \n",
       "625             \\N                       Drama  \n",
       "668             \\N                       Drama  \n",
       "672            120           Adventure,Fantasy  \n",
       "828             \\N                          \\N  \n",
       "832             \\N                          \\N  \n",
       "836             \\N                          \\N  \n",
       "840             \\N                          \\N  \n",
       "849             \\N                          \\N  \n",
       "852             \\N                          \\N  \n",
       "857             \\N                          \\N  \n",
       "858             \\N                          \\N  \n",
       "859             \\N                          \\N  \n",
       "869             \\N                          \\N  \n",
       "876             \\N                       Drama  "
      ]
     },
     "execution_count": 70,
     "metadata": {},
     "output_type": "execute_result"
    }
   ],
   "source": [
    "movies.head(20)"
   ]
  },
  {
   "cell_type": "markdown",
   "id": "2c55a1dc-9658-488a-90d0-abf8a03e1052",
   "metadata": {},
   "source": [
    "# Crew DF Import"
   ]
  },
  {
   "cell_type": "code",
   "execution_count": 15,
   "id": "e008fe4f-81d1-4d7c-9389-994e4945c47b",
   "metadata": {},
   "outputs": [],
   "source": [
    "df_crew = pd.read_csv('../title.crew.tsv', sep='\\t')"
   ]
  },
  {
   "cell_type": "code",
   "execution_count": 16,
   "id": "bbc8f627-e554-42ad-84f8-a0ec7ed9dd8c",
   "metadata": {},
   "outputs": [
    {
     "name": "stdout",
     "output_type": "stream",
     "text": [
      "<class 'pandas.core.frame.DataFrame'>\n",
      "RangeIndex: 10553136 entries, 0 to 10553135\n",
      "Data columns (total 3 columns):\n",
      " #   Column     Dtype \n",
      "---  ------     ----- \n",
      " 0   tconst     object\n",
      " 1   directors  object\n",
      " 2   writers    object\n",
      "dtypes: object(3)\n",
      "memory usage: 241.5+ MB\n"
     ]
    }
   ],
   "source": [
    "df_crew.info()"
   ]
  },
  {
   "cell_type": "markdown",
   "id": "798320c7-6fed-4bd4-b42f-eef4eec285e4",
   "metadata": {},
   "source": [
    "Check data for issues"
   ]
  },
  {
   "cell_type": "code",
   "execution_count": 18,
   "id": "b64b073d-1113-4861-80c1-670f84902628",
   "metadata": {},
   "outputs": [
    {
     "data": {
      "text/plain": [
       "tconst       0\n",
       "directors    0\n",
       "writers      0\n",
       "dtype: int64"
      ]
     },
     "execution_count": 18,
     "metadata": {},
     "output_type": "execute_result"
    }
   ],
   "source": [
    "df_crew.isna().sum()"
   ]
  },
  {
   "cell_type": "code",
   "execution_count": 19,
   "id": "4b6f346a-3429-4ab2-90a8-522b580fe235",
   "metadata": {},
   "outputs": [
    {
     "data": {
      "text/plain": [
       "0"
      ]
     },
     "execution_count": 19,
     "metadata": {},
     "output_type": "execute_result"
    }
   ],
   "source": [
    "df_crew.duplicated().sum()"
   ]
  },
  {
   "cell_type": "code",
   "execution_count": 20,
   "id": "b3255342-be7a-4798-8187-f0920a3d43b1",
   "metadata": {},
   "outputs": [
    {
     "data": {
      "text/html": [
       "<div>\n",
       "<style scoped>\n",
       "    .dataframe tbody tr th:only-of-type {\n",
       "        vertical-align: middle;\n",
       "    }\n",
       "\n",
       "    .dataframe tbody tr th {\n",
       "        vertical-align: top;\n",
       "    }\n",
       "\n",
       "    .dataframe thead th {\n",
       "        text-align: right;\n",
       "    }\n",
       "</style>\n",
       "<table border=\"1\" class=\"dataframe\">\n",
       "  <thead>\n",
       "    <tr style=\"text-align: right;\">\n",
       "      <th></th>\n",
       "      <th>tconst</th>\n",
       "      <th>directors</th>\n",
       "      <th>writers</th>\n",
       "    </tr>\n",
       "  </thead>\n",
       "  <tbody>\n",
       "    <tr>\n",
       "      <th>0</th>\n",
       "      <td>tt0000001</td>\n",
       "      <td>nm0005690</td>\n",
       "      <td>\\N</td>\n",
       "    </tr>\n",
       "    <tr>\n",
       "      <th>1</th>\n",
       "      <td>tt0000002</td>\n",
       "      <td>nm0721526</td>\n",
       "      <td>\\N</td>\n",
       "    </tr>\n",
       "    <tr>\n",
       "      <th>2</th>\n",
       "      <td>tt0000003</td>\n",
       "      <td>nm0721526</td>\n",
       "      <td>\\N</td>\n",
       "    </tr>\n",
       "    <tr>\n",
       "      <th>3</th>\n",
       "      <td>tt0000004</td>\n",
       "      <td>nm0721526</td>\n",
       "      <td>\\N</td>\n",
       "    </tr>\n",
       "    <tr>\n",
       "      <th>4</th>\n",
       "      <td>tt0000005</td>\n",
       "      <td>nm0005690</td>\n",
       "      <td>\\N</td>\n",
       "    </tr>\n",
       "  </tbody>\n",
       "</table>\n",
       "</div>"
      ],
      "text/plain": [
       "      tconst  directors writers\n",
       "0  tt0000001  nm0005690      \\N\n",
       "1  tt0000002  nm0721526      \\N\n",
       "2  tt0000003  nm0721526      \\N\n",
       "3  tt0000004  nm0721526      \\N\n",
       "4  tt0000005  nm0005690      \\N"
      ]
     },
     "execution_count": 20,
     "metadata": {},
     "output_type": "execute_result"
    }
   ],
   "source": [
    "df_crew.head()"
   ]
  },
  {
   "cell_type": "markdown",
   "id": "beda3c99-c2f9-41f8-a585-d8c03a097a26",
   "metadata": {},
   "source": [
    "### Clean data"
   ]
  },
  {
   "cell_type": "code",
   "execution_count": 22,
   "id": "63d5d813-ccc2-4897-bc77-08576abc7559",
   "metadata": {},
   "outputs": [],
   "source": [
    "# drop writers\n",
    "df_crew.drop('writers', axis=1, inplace=True)"
   ]
  },
  {
   "cell_type": "markdown",
   "id": "b023e9cf-1d64-4b41-bfdb-67887fe2062d",
   "metadata": {},
   "source": [
    "#### Loop to check data for \\N value"
   ]
  },
  {
   "cell_type": "code",
   "execution_count": 24,
   "id": "48ab11f4-8635-421a-ba43-92c09c16fbd2",
   "metadata": {},
   "outputs": [
    {
     "data": {
      "text/plain": [
       "4027431"
      ]
     },
     "execution_count": 24,
     "metadata": {},
     "output_type": "execute_result"
    }
   ],
   "source": [
    "# check for \\N values\n",
    "def NA_values(drop):\n",
    "    count = 0\n",
    "\n",
    "    for row in drop:\n",
    "        if row == '\\\\N':\n",
    "            count +=1\n",
    "    return count\n",
    "\n",
    "NA_values(df_crew['directors'])"
   ]
  },
  {
   "cell_type": "code",
   "execution_count": 25,
   "id": "cc851e81-f98d-4c6b-b58d-dbe606eedb43",
   "metadata": {},
   "outputs": [
    {
     "data": {
      "text/plain": [
       "0"
      ]
     },
     "execution_count": 25,
     "metadata": {},
     "output_type": "execute_result"
    }
   ],
   "source": [
    "# drop blank directors\n",
    "dropped_directors = df_crew[df_crew['directors'] != '\\\\N']\n",
    "\n",
    "NA_values(dropped_directors['directors'])"
   ]
  },
  {
   "cell_type": "markdown",
   "id": "64a3076c-fa30-434b-8df7-3af08b924180",
   "metadata": {},
   "source": [
    "# Ratings DF import"
   ]
  },
  {
   "cell_type": "code",
   "execution_count": 27,
   "id": "bfafa7b0-4d92-4c9a-9f52-d7800ad10cfe",
   "metadata": {},
   "outputs": [],
   "source": [
    "df_ratings = pd.read_csv('../title.ratings.tsv', sep='\\t')"
   ]
  },
  {
   "cell_type": "markdown",
   "id": "df42913c-b3a2-434c-86b5-852101e129d8",
   "metadata": {},
   "source": [
    "Check data fro issues"
   ]
  },
  {
   "cell_type": "code",
   "execution_count": 29,
   "id": "54244be6-821e-4275-9025-03eff300ee66",
   "metadata": {},
   "outputs": [
    {
     "name": "stdout",
     "output_type": "stream",
     "text": [
      "<class 'pandas.core.frame.DataFrame'>\n",
      "RangeIndex: 1495988 entries, 0 to 1495987\n",
      "Data columns (total 3 columns):\n",
      " #   Column         Non-Null Count    Dtype  \n",
      "---  ------         --------------    -----  \n",
      " 0   tconst         1495988 non-null  object \n",
      " 1   averageRating  1495988 non-null  float64\n",
      " 2   numVotes       1495988 non-null  int64  \n",
      "dtypes: float64(1), int64(1), object(1)\n",
      "memory usage: 34.2+ MB\n"
     ]
    }
   ],
   "source": [
    "df_ratings.info()"
   ]
  },
  {
   "cell_type": "code",
   "execution_count": 30,
   "id": "ce12e330-59e4-490b-b303-531aa1983c85",
   "metadata": {},
   "outputs": [
    {
     "data": {
      "text/plain": [
       "0"
      ]
     },
     "execution_count": 30,
     "metadata": {},
     "output_type": "execute_result"
    }
   ],
   "source": [
    "df_ratings.duplicated().sum()"
   ]
  },
  {
   "cell_type": "code",
   "execution_count": 31,
   "id": "278ac3a4-2f6f-42b4-a7a5-8fdf76a02631",
   "metadata": {},
   "outputs": [
    {
     "data": {
      "text/plain": [
       "tconst           0\n",
       "averageRating    0\n",
       "numVotes         0\n",
       "dtype: int64"
      ]
     },
     "execution_count": 31,
     "metadata": {},
     "output_type": "execute_result"
    }
   ],
   "source": [
    "df_ratings.isna().sum()"
   ]
  },
  {
   "cell_type": "code",
   "execution_count": 32,
   "id": "3acffb2f-e41e-4823-a907-cb20f95f65e9",
   "metadata": {},
   "outputs": [
    {
     "name": "stdout",
     "output_type": "stream",
     "text": [
      "0\n",
      "0\n"
     ]
    }
   ],
   "source": [
    "# check for \\N values\n",
    "print(NA_values(df_ratings['averageRating']))\n",
    "print(NA_values(df_ratings['numVotes']))"
   ]
  },
  {
   "cell_type": "code",
   "execution_count": null,
   "id": "30633486-164e-4051-ba83-506ed2d830eb",
   "metadata": {},
   "outputs": [],
   "source": []
  },
  {
   "cell_type": "code",
   "execution_count": null,
   "id": "734a0bf4-7956-4b4f-8cd6-f95fa3876f8c",
   "metadata": {},
   "outputs": [],
   "source": []
  },
  {
   "cell_type": "markdown",
   "id": "94b0d5c0-3e03-4fd7-8936-e3cd3cb0b238",
   "metadata": {},
   "source": [
    "# People DF Import"
   ]
  },
  {
   "cell_type": "code",
   "execution_count": 114,
   "id": "87e41b27-f3a5-4d51-9388-cc6f8b8bed7d",
   "metadata": {},
   "outputs": [
    {
     "name": "stdout",
     "output_type": "stream",
     "text": [
      "<class 'pandas.core.frame.DataFrame'>\n",
      "RangeIndex: 13929073 entries, 0 to 13929072\n",
      "Data columns (total 4 columns):\n",
      " #   Column             Dtype \n",
      "---  ------             ----- \n",
      " 0   nconst             object\n",
      " 1   primaryName        object\n",
      " 2   primaryProfession  object\n",
      " 3   knownForTitles     object\n",
      "dtypes: object(4)\n",
      "memory usage: 425.1+ MB\n"
     ]
    }
   ],
   "source": [
    "df_people = pd.read_csv(\"../name.basics.tsv\", sep=\"\\t\")\n",
    "df_people.drop(['birthYear', 'deathYear'], axis=1, inplace=True)\n",
    "df_people.info()"
   ]
  },
  {
   "cell_type": "code",
   "execution_count": 115,
   "id": "157cb751-2f29-450e-979b-cddde7a13d97",
   "metadata": {},
   "outputs": [
    {
     "data": {
      "text/plain": [
       "(13929073, 4)"
      ]
     },
     "execution_count": 115,
     "metadata": {},
     "output_type": "execute_result"
    }
   ],
   "source": [
    "df_people.shape"
   ]
  },
  {
   "cell_type": "code",
   "execution_count": 116,
   "id": "05f41062-8d00-4736-b037-c6f1ad536ed3",
   "metadata": {},
   "outputs": [
    {
     "data": {
      "text/plain": [
       "0"
      ]
     },
     "execution_count": 116,
     "metadata": {},
     "output_type": "execute_result"
    }
   ],
   "source": [
    "df_people.duplicated().sum()"
   ]
  },
  {
   "cell_type": "code",
   "execution_count": 117,
   "id": "b92f9d22-6fb0-444c-b4b4-8bb59038a11d",
   "metadata": {},
   "outputs": [
    {
     "name": "stdout",
     "output_type": "stream",
     "text": [
      "51\n",
      "2699781\n",
      "1571008\n"
     ]
    }
   ],
   "source": [
    "print(NA_values(df_people['primaryName']))\n",
    "print(NA_values(df_people['primaryProfession']))\n",
    "print(NA_values(df_people['knownForTitles']))"
   ]
  },
  {
   "cell_type": "markdown",
   "id": "cecda102-1372-487a-b887-0bb3a213efa3",
   "metadata": {},
   "source": [
    "### Clean the data"
   ]
  },
  {
   "cell_type": "code",
   "execution_count": 148,
   "id": "4a438a34-5318-42af-9a8d-52b0c08dd842",
   "metadata": {},
   "outputs": [
    {
     "data": {
      "text/plain": [
       "(1108186, 4)"
      ]
     },
     "execution_count": 148,
     "metadata": {},
     "output_type": "execute_result"
    }
   ],
   "source": [
    "# filter for directors\n",
    "df_people = df_people[df_people['primaryProfession'].str.contains('director')]\n",
    "df_people.shape"
   ]
  },
  {
   "cell_type": "code",
   "execution_count": 125,
   "id": "7676acb3-7018-438b-9288-6d5777e0b0d1",
   "metadata": {},
   "outputs": [
    {
     "data": {
      "text/html": [
       "<div>\n",
       "<style scoped>\n",
       "    .dataframe tbody tr th:only-of-type {\n",
       "        vertical-align: middle;\n",
       "    }\n",
       "\n",
       "    .dataframe tbody tr th {\n",
       "        vertical-align: top;\n",
       "    }\n",
       "\n",
       "    .dataframe thead th {\n",
       "        text-align: right;\n",
       "    }\n",
       "</style>\n",
       "<table border=\"1\" class=\"dataframe\">\n",
       "  <thead>\n",
       "    <tr style=\"text-align: right;\">\n",
       "      <th></th>\n",
       "      <th>nconst</th>\n",
       "      <th>primaryName</th>\n",
       "      <th>primaryProfession</th>\n",
       "      <th>knownForTitles</th>\n",
       "    </tr>\n",
       "  </thead>\n",
       "  <tbody>\n",
       "    <tr>\n",
       "      <th>4</th>\n",
       "      <td>nm0000005</td>\n",
       "      <td>Ingmar Bergman</td>\n",
       "      <td>writer,director,actor</td>\n",
       "      <td>tt0050986,tt0069467,tt0083922,tt0050976</td>\n",
       "    </tr>\n",
       "    <tr>\n",
       "      <th>7</th>\n",
       "      <td>nm0000008</td>\n",
       "      <td>Marlon Brando</td>\n",
       "      <td>actor,director,writer</td>\n",
       "      <td>tt0078788,tt0068646,tt0047296,tt0070849</td>\n",
       "    </tr>\n",
       "    <tr>\n",
       "      <th>8</th>\n",
       "      <td>nm0000009</td>\n",
       "      <td>Richard Burton</td>\n",
       "      <td>actor,producer,director</td>\n",
       "      <td>tt0061184,tt0087803,tt0059749,tt0057877</td>\n",
       "    </tr>\n",
       "    <tr>\n",
       "      <th>9</th>\n",
       "      <td>nm0000010</td>\n",
       "      <td>James Cagney</td>\n",
       "      <td>actor,director,producer</td>\n",
       "      <td>tt0029870,tt0031867,tt0042041,tt0055256</td>\n",
       "    </tr>\n",
       "    <tr>\n",
       "      <th>17</th>\n",
       "      <td>nm0000018</td>\n",
       "      <td>Kirk Douglas</td>\n",
       "      <td>actor,producer,director</td>\n",
       "      <td>tt0080736,tt0054331,tt0049456,tt0050825</td>\n",
       "    </tr>\n",
       "    <tr>\n",
       "      <th>18</th>\n",
       "      <td>nm0000019</td>\n",
       "      <td>Federico Fellini</td>\n",
       "      <td>writer,director,actor</td>\n",
       "      <td>tt0056801,tt0050783,tt0047528,tt0053779</td>\n",
       "    </tr>\n",
       "    <tr>\n",
       "      <th>23</th>\n",
       "      <td>nm0000024</td>\n",
       "      <td>John Gielgud</td>\n",
       "      <td>actor,director,writer</td>\n",
       "      <td>tt0082031,tt0071877,tt0045943,tt0080678</td>\n",
       "    </tr>\n",
       "    <tr>\n",
       "      <th>31</th>\n",
       "      <td>nm0000032</td>\n",
       "      <td>Charlton Heston</td>\n",
       "      <td>actor,director,writer</td>\n",
       "      <td>tt0052618,tt0049833,tt0070723,tt0067525</td>\n",
       "    </tr>\n",
       "    <tr>\n",
       "      <th>32</th>\n",
       "      <td>nm0000033</td>\n",
       "      <td>Alfred Hitchcock</td>\n",
       "      <td>director,producer,writer</td>\n",
       "      <td>tt0054215,tt0053125,tt0052357,tt0056869</td>\n",
       "    </tr>\n",
       "    <tr>\n",
       "      <th>35</th>\n",
       "      <td>nm0000036</td>\n",
       "      <td>Buster Keaton</td>\n",
       "      <td>actor,writer,director</td>\n",
       "      <td>tt0017925,tt0015163,tt0015324,tt0016332</td>\n",
       "    </tr>\n",
       "    <tr>\n",
       "      <th>36</th>\n",
       "      <td>nm0000037</td>\n",
       "      <td>Gene Kelly</td>\n",
       "      <td>actor,miscellaneous,director</td>\n",
       "      <td>tt0045152,tt0043278,tt0053946,tt0041716</td>\n",
       "    </tr>\n",
       "    <tr>\n",
       "      <th>39</th>\n",
       "      <td>nm0000040</td>\n",
       "      <td>Stanley Kubrick</td>\n",
       "      <td>director,writer,producer</td>\n",
       "      <td>tt0062622,tt0066921,tt0072684,tt0093058</td>\n",
       "    </tr>\n",
       "    <tr>\n",
       "      <th>40</th>\n",
       "      <td>nm0000041</td>\n",
       "      <td>Akira Kurosawa</td>\n",
       "      <td>writer,director,assistant_director</td>\n",
       "      <td>tt0051808,tt0080979,tt0089881,tt0047478</td>\n",
       "    </tr>\n",
       "    <tr>\n",
       "      <th>47</th>\n",
       "      <td>nm0000048</td>\n",
       "      <td>Peter Lorre</td>\n",
       "      <td>actor,writer,director</td>\n",
       "      <td>tt0022100,tt0036613,tt0034583,tt0033870</td>\n",
       "    </tr>\n",
       "    <tr>\n",
       "      <th>49</th>\n",
       "      <td>nm0000050</td>\n",
       "      <td>Groucho Marx</td>\n",
       "      <td>actor,writer,director</td>\n",
       "      <td>tt0026778,tt0023969,tt0028772,tt0031060</td>\n",
       "    </tr>\n",
       "    <tr>\n",
       "      <th>55</th>\n",
       "      <td>nm0000056</td>\n",
       "      <td>Paul Newman</td>\n",
       "      <td>actor,producer,director</td>\n",
       "      <td>tt0054997,tt0257044,tt0084855,tt0110684</td>\n",
       "    </tr>\n",
       "    <tr>\n",
       "      <th>56</th>\n",
       "      <td>nm0000057</td>\n",
       "      <td>David Niven</td>\n",
       "      <td>actor,producer,director</td>\n",
       "      <td>tt0074937,tt0048960,tt0057413,tt0052182</td>\n",
       "    </tr>\n",
       "    <tr>\n",
       "      <th>58</th>\n",
       "      <td>nm0000059</td>\n",
       "      <td>Laurence Olivier</td>\n",
       "      <td>actor,producer,director</td>\n",
       "      <td>tt0069281,tt0077269,tt0032976,tt0074860</td>\n",
       "    </tr>\n",
       "    <tr>\n",
       "      <th>62</th>\n",
       "      <td>nm0000063</td>\n",
       "      <td>Anthony Quinn</td>\n",
       "      <td>actor,producer,director</td>\n",
       "      <td>tt0057831,tt0056172,tt0049456,tt0064952</td>\n",
       "    </tr>\n",
       "    <tr>\n",
       "      <th>70</th>\n",
       "      <td>nm0000071</td>\n",
       "      <td>James Stewart</td>\n",
       "      <td>actor,director,producer</td>\n",
       "      <td>tt0052561,tt0052357,tt0038650,tt0031679</td>\n",
       "    </tr>\n",
       "    <tr>\n",
       "      <th>75</th>\n",
       "      <td>nm0000076</td>\n",
       "      <td>François Truffaut</td>\n",
       "      <td>writer,director,producer</td>\n",
       "      <td>tt0070460,tt0075860,tt0053198,tt0055032</td>\n",
       "    </tr>\n",
       "    <tr>\n",
       "      <th>79</th>\n",
       "      <td>nm0000080</td>\n",
       "      <td>Orson Welles</td>\n",
       "      <td>actor,writer,director</td>\n",
       "      <td>tt0033467,tt0052311,tt0040525,tt0057427</td>\n",
       "    </tr>\n",
       "    <tr>\n",
       "      <th>82</th>\n",
       "      <td>nm0000083</td>\n",
       "      <td>Alan Miller</td>\n",
       "      <td>editor,writer,director</td>\n",
       "      <td>tt0424773,tt0969216,tt27504185,tt5969604</td>\n",
       "    </tr>\n",
       "    <tr>\n",
       "      <th>86</th>\n",
       "      <td>nm0000087</td>\n",
       "      <td>Elena Koreneva</td>\n",
       "      <td>actress,casting_director,soundtrack</td>\n",
       "      <td>tt0122969,tt5847740,tt7529350,tt0123138</td>\n",
       "    </tr>\n",
       "    <tr>\n",
       "      <th>87</th>\n",
       "      <td>nm0000088</td>\n",
       "      <td>Aleksey Korenev</td>\n",
       "      <td>director,writer,assistant_director</td>\n",
       "      <td>tt0191104,tt0100069,tt0068304,tt0076551</td>\n",
       "    </tr>\n",
       "    <tr>\n",
       "      <th>89</th>\n",
       "      <td>nm0000090</td>\n",
       "      <td>Armin Mueller-Stahl</td>\n",
       "      <td>actor,director,writer</td>\n",
       "      <td>tt0765443,tt0117631,tt0963178,tt0139809</td>\n",
       "    </tr>\n",
       "    <tr>\n",
       "      <th>90</th>\n",
       "      <td>nm0000091</td>\n",
       "      <td>Gérard Pirès</td>\n",
       "      <td>director,writer,actor</td>\n",
       "      <td>tt0152930,tt0064297,tt0282552,tt0421974</td>\n",
       "    </tr>\n",
       "    <tr>\n",
       "      <th>94</th>\n",
       "      <td>nm0000095</td>\n",
       "      <td>Woody Allen</td>\n",
       "      <td>writer,director,actor</td>\n",
       "      <td>tt0079522,tt0075686,tt0118954,tt0091167</td>\n",
       "    </tr>\n",
       "    <tr>\n",
       "      <th>95</th>\n",
       "      <td>nm0000096</td>\n",
       "      <td>Gillian Anderson</td>\n",
       "      <td>actress,producer,director</td>\n",
       "      <td>tt0106179,tt2294189,tt0455590,tt0442632</td>\n",
       "    </tr>\n",
       "    <tr>\n",
       "      <th>96</th>\n",
       "      <td>nm0000097</td>\n",
       "      <td>Pamela Anderson</td>\n",
       "      <td>actress,producer,director</td>\n",
       "      <td>tt31193791,tt0096542,tt18376122,tt0101120</td>\n",
       "    </tr>\n",
       "  </tbody>\n",
       "</table>\n",
       "</div>"
      ],
      "text/plain": [
       "       nconst          primaryName                    primaryProfession  \\\n",
       "4   nm0000005       Ingmar Bergman                writer,director,actor   \n",
       "7   nm0000008        Marlon Brando                actor,director,writer   \n",
       "8   nm0000009       Richard Burton              actor,producer,director   \n",
       "9   nm0000010         James Cagney              actor,director,producer   \n",
       "17  nm0000018         Kirk Douglas              actor,producer,director   \n",
       "18  nm0000019     Federico Fellini                writer,director,actor   \n",
       "23  nm0000024         John Gielgud                actor,director,writer   \n",
       "31  nm0000032      Charlton Heston                actor,director,writer   \n",
       "32  nm0000033     Alfred Hitchcock             director,producer,writer   \n",
       "35  nm0000036        Buster Keaton                actor,writer,director   \n",
       "36  nm0000037           Gene Kelly         actor,miscellaneous,director   \n",
       "39  nm0000040      Stanley Kubrick             director,writer,producer   \n",
       "40  nm0000041       Akira Kurosawa   writer,director,assistant_director   \n",
       "47  nm0000048          Peter Lorre                actor,writer,director   \n",
       "49  nm0000050         Groucho Marx                actor,writer,director   \n",
       "55  nm0000056          Paul Newman              actor,producer,director   \n",
       "56  nm0000057          David Niven              actor,producer,director   \n",
       "58  nm0000059     Laurence Olivier              actor,producer,director   \n",
       "62  nm0000063        Anthony Quinn              actor,producer,director   \n",
       "70  nm0000071        James Stewart              actor,director,producer   \n",
       "75  nm0000076    François Truffaut             writer,director,producer   \n",
       "79  nm0000080         Orson Welles                actor,writer,director   \n",
       "82  nm0000083          Alan Miller               editor,writer,director   \n",
       "86  nm0000087       Elena Koreneva  actress,casting_director,soundtrack   \n",
       "87  nm0000088      Aleksey Korenev   director,writer,assistant_director   \n",
       "89  nm0000090  Armin Mueller-Stahl                actor,director,writer   \n",
       "90  nm0000091         Gérard Pirès                director,writer,actor   \n",
       "94  nm0000095          Woody Allen                writer,director,actor   \n",
       "95  nm0000096     Gillian Anderson            actress,producer,director   \n",
       "96  nm0000097      Pamela Anderson            actress,producer,director   \n",
       "\n",
       "                               knownForTitles  \n",
       "4     tt0050986,tt0069467,tt0083922,tt0050976  \n",
       "7     tt0078788,tt0068646,tt0047296,tt0070849  \n",
       "8     tt0061184,tt0087803,tt0059749,tt0057877  \n",
       "9     tt0029870,tt0031867,tt0042041,tt0055256  \n",
       "17    tt0080736,tt0054331,tt0049456,tt0050825  \n",
       "18    tt0056801,tt0050783,tt0047528,tt0053779  \n",
       "23    tt0082031,tt0071877,tt0045943,tt0080678  \n",
       "31    tt0052618,tt0049833,tt0070723,tt0067525  \n",
       "32    tt0054215,tt0053125,tt0052357,tt0056869  \n",
       "35    tt0017925,tt0015163,tt0015324,tt0016332  \n",
       "36    tt0045152,tt0043278,tt0053946,tt0041716  \n",
       "39    tt0062622,tt0066921,tt0072684,tt0093058  \n",
       "40    tt0051808,tt0080979,tt0089881,tt0047478  \n",
       "47    tt0022100,tt0036613,tt0034583,tt0033870  \n",
       "49    tt0026778,tt0023969,tt0028772,tt0031060  \n",
       "55    tt0054997,tt0257044,tt0084855,tt0110684  \n",
       "56    tt0074937,tt0048960,tt0057413,tt0052182  \n",
       "58    tt0069281,tt0077269,tt0032976,tt0074860  \n",
       "62    tt0057831,tt0056172,tt0049456,tt0064952  \n",
       "70    tt0052561,tt0052357,tt0038650,tt0031679  \n",
       "75    tt0070460,tt0075860,tt0053198,tt0055032  \n",
       "79    tt0033467,tt0052311,tt0040525,tt0057427  \n",
       "82   tt0424773,tt0969216,tt27504185,tt5969604  \n",
       "86    tt0122969,tt5847740,tt7529350,tt0123138  \n",
       "87    tt0191104,tt0100069,tt0068304,tt0076551  \n",
       "89    tt0765443,tt0117631,tt0963178,tt0139809  \n",
       "90    tt0152930,tt0064297,tt0282552,tt0421974  \n",
       "94    tt0079522,tt0075686,tt0118954,tt0091167  \n",
       "95    tt0106179,tt2294189,tt0455590,tt0442632  \n",
       "96  tt31193791,tt0096542,tt18376122,tt0101120  "
      ]
     },
     "execution_count": 125,
     "metadata": {},
     "output_type": "execute_result"
    }
   ],
   "source": [
    "df_people.head(30)"
   ]
  },
  {
   "cell_type": "code",
   "execution_count": 154,
   "id": "42062602-7089-4860-9406-fce88e74b5f2",
   "metadata": {},
   "outputs": [
    {
     "name": "stdout",
     "output_type": "stream",
     "text": [
      "0\n"
     ]
    }
   ],
   "source": [
    "# check for \\N rows in profession\n",
    "print(NA_values(df_people['primaryProfession']))\n"
   ]
  }
 ],
 "metadata": {
  "kernelspec": {
   "display_name": "Python 3 (ipykernel)",
   "language": "python",
   "name": "python3"
  },
  "language_info": {
   "codemirror_mode": {
    "name": "ipython",
    "version": 3
   },
   "file_extension": ".py",
   "mimetype": "text/x-python",
   "name": "python",
   "nbconvert_exporter": "python",
   "pygments_lexer": "ipython3",
   "version": "3.12.4"
  }
 },
 "nbformat": 4,
 "nbformat_minor": 5
}
