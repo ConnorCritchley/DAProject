{
 "cells": [
  {
   "cell_type": "markdown",
   "id": "986ff4f3-b06e-4eda-9cd6-addaa5bee7cd",
   "metadata": {},
   "source": [
    "# Data Analytics Project\n",
    "\n",
    "# Our Qestion: \n",
    "[duration-rating, ratings-directors, \n",
    "\n",
    "\n",
    "## Initialization/Imports"
   ]
  },
  {
   "cell_type": "code",
   "execution_count": 36,
   "id": "07c57aa5-eea6-40fa-a422-ab82de7ddaf9",
   "metadata": {},
   "outputs": [],
   "source": [
    "import pandas as pd\n",
    "import matplotlib as plt\n",
    "import seaborn as sns\n",
    "import numpy as np"
   ]
  },
  {
   "cell_type": "markdown",
   "id": "7f29f261-00c4-4fc6-9bd5-3df3d393e4fe",
   "metadata": {},
   "source": [
    "## Titles DF Import"
   ]
  },
  {
   "cell_type": "code",
   "execution_count": 21,
   "id": "d560e10a-1db9-45b2-9141-f2332a17d02b",
   "metadata": {},
   "outputs": [
    {
     "name": "stderr",
     "output_type": "stream",
     "text": [
      "/var/folders/bk/frkpdn794lg4tpwpn9vrl7w00000gn/T/ipykernel_10685/167427577.py:1: DtypeWarning: Columns (4) have mixed types. Specify dtype option on import or set low_memory=False.\n",
      "  df_titles = pd.read_csv(\"Data/title.basics.tsv\", delimiter=\"\\t\")\n"
     ]
    },
    {
     "name": "stdout",
     "output_type": "stream",
     "text": [
      "<class 'pandas.core.frame.DataFrame'>\n",
      "RangeIndex: 11217433 entries, 0 to 11217432\n",
      "Data columns (total 9 columns):\n",
      " #   Column          Dtype \n",
      "---  ------          ----- \n",
      " 0   tconst          object\n",
      " 1   titleType       object\n",
      " 2   primaryTitle    object\n",
      " 3   originalTitle   object\n",
      " 4   isAdult         object\n",
      " 5   startYear       object\n",
      " 6   endYear         object\n",
      " 7   runtimeMinutes  object\n",
      " 8   genres          object\n",
      "dtypes: object(9)\n",
      "memory usage: 770.2+ MB\n"
     ]
    }
   ],
   "source": [
    "df_titles = pd.read_csv(\"Data/title.basics.tsv\", delimiter=\"\\t\")\n",
    "df_titles.info()"
   ]
  },
  {
   "cell_type": "markdown",
   "id": "10a60c63-c267-4949-9e36-0649270ad0e2",
   "metadata": {},
   "source": [
    "### Titles cleaning\n",
    "#### NA values"
   ]
  },
  {
   "cell_type": "code",
   "execution_count": 11,
   "id": "30d14bc0-7015-457e-8e22-b2e4d4ce84e0",
   "metadata": {},
   "outputs": [
    {
     "data": {
      "text/plain": [
       "tconst            0\n",
       "titleType         0\n",
       "primaryTitle      0\n",
       "originalTitle     0\n",
       "isAdult           0\n",
       "startYear         0\n",
       "endYear           0\n",
       "runtimeMinutes    0\n",
       "genres            0\n",
       "dtype: int64"
      ]
     },
     "execution_count": 11,
     "metadata": {},
     "output_type": "execute_result"
    }
   ],
   "source": [
    "df_titles = df_titles.dropna()\n",
    "df_titles.isna().sum()"
   ]
  },
  {
   "cell_type": "markdown",
   "id": "49e68725-31cc-4cc9-aad9-5fb5076ffe46",
   "metadata": {},
   "source": [
    "#### Only movies"
   ]
  },
  {
   "cell_type": "code",
   "execution_count": 32,
   "id": "61e8378a-6184-40eb-8fdf-465b10cfcad6",
   "metadata": {},
   "outputs": [
    {
     "name": "stdout",
     "output_type": "stream",
     "text": [
      "<class 'pandas.core.frame.DataFrame'>\n",
      "Index: 696417 entries, 8 to 11217383\n",
      "Data columns (total 9 columns):\n",
      " #   Column          Non-Null Count   Dtype \n",
      "---  ------          --------------   ----- \n",
      " 0   tconst          696417 non-null  object\n",
      " 1   titleType       696417 non-null  object\n",
      " 2   primaryTitle    696415 non-null  object\n",
      " 3   originalTitle   696415 non-null  object\n",
      " 4   isAdult         696417 non-null  object\n",
      " 5   startYear       696417 non-null  object\n",
      " 6   endYear         696417 non-null  object\n",
      " 7   runtimeMinutes  438425 non-null  object\n",
      " 8   genres          696417 non-null  object\n",
      "dtypes: object(9)\n",
      "memory usage: 53.1+ MB\n"
     ]
    }
   ],
   "source": [
    "df_titles = df_titles[df_titles['titleType'] == 'movie']\n",
    "df_titles.info()"
   ]
  },
  {
   "cell_type": "markdown",
   "id": "107b15de-839d-4b93-9a91-c550c1f13c0f",
   "metadata": {},
   "source": [
    "#### Fix runtime \\N's"
   ]
  },
  {
   "cell_type": "code",
   "execution_count": 54,
   "id": "ac3afb48-af90-4315-89e1-26f5a06c8447",
   "metadata": {},
   "outputs": [
    {
     "ename": "TypeError",
     "evalue": "'float' object is not callable",
     "output_type": "error",
     "traceback": [
      "\u001b[0;31m---------------------------------------------------------------------------\u001b[0m",
      "\u001b[0;31mTypeError\u001b[0m                                 Traceback (most recent call last)",
      "Cell \u001b[0;32mIn[54], line 1\u001b[0m\n\u001b[0;32m----> 1\u001b[0m df_titles[\u001b[38;5;124m'\u001b[39m\u001b[38;5;124mruntimeMinutes\u001b[39m\u001b[38;5;124m'\u001b[39m] \u001b[38;5;241m=\u001b[39m df_titles[\u001b[38;5;124m'\u001b[39m\u001b[38;5;124mruntimeMinutes\u001b[39m\u001b[38;5;124m'\u001b[39m]\u001b[38;5;241m.\u001b[39mreplace(\u001b[38;5;124m'\u001b[39m\u001b[38;5;130;01m\\\\\u001b[39;00m\u001b[38;5;124mN\u001b[39m\u001b[38;5;124m'\u001b[39m, np\u001b[38;5;241m.\u001b[39mnan())\n\u001b[1;32m      2\u001b[0m df_titles[\u001b[38;5;124m'\u001b[39m\u001b[38;5;124mruntimeMinutes\u001b[39m\u001b[38;5;124m'\u001b[39m] \u001b[38;5;241m=\u001b[39m df_titles[\u001b[38;5;124m'\u001b[39m\u001b[38;5;124mruntimeMinutes\u001b[39m\u001b[38;5;124m'\u001b[39m]\u001b[38;5;241m.\u001b[39mastype(\u001b[38;5;124m\"\u001b[39m\u001b[38;5;124mint64\u001b[39m\u001b[38;5;124m\"\u001b[39m)\n\u001b[1;32m      3\u001b[0m df_titles \u001b[38;5;241m=\u001b[39m df_titles[\u001b[38;5;124m'\u001b[39m\u001b[38;5;124mruntimeMinutes\u001b[39m\u001b[38;5;124m'\u001b[39m]\u001b[38;5;241m.\u001b[39mfillna(df_titles[\u001b[38;5;124m'\u001b[39m\u001b[38;5;124mruntimeMinutes\u001b[39m\u001b[38;5;124m'\u001b[39m]\u001b[38;5;241m.\u001b[39mmean())\n",
      "\u001b[0;31mTypeError\u001b[0m: 'float' object is not callable"
     ]
    }
   ],
   "source": [
    "#df_titles['runtimeMinutes'] = df_titles['runtimeMinutes'].replace('\\\\N', np.nan())\n",
    "#df_titles['runtimeMinutes'] = df_titles['runtimeMinutes'].astype(\"int64\")\n",
    "#df_titles = df_titles['runtimeMinutes'].fillna(df_titles['runtimeMinutes'].mean())\n",
    "#df_titles['runtimeMinutes'].isna().sum()"
   ]
  },
  {
   "cell_type": "markdown",
   "id": "e926a0c3-ac83-4b7a-b5ae-6c7d7e641484",
   "metadata": {},
   "source": [
    "## Crew DF Import"
   ]
  },
  {
   "cell_type": "code",
   "execution_count": 15,
   "id": "96c837d1-13ff-4036-a17d-1a4f00a2a7bc",
   "metadata": {},
   "outputs": [
    {
     "name": "stdout",
     "output_type": "stream",
     "text": [
      "<class 'pandas.core.frame.DataFrame'>\n",
      "RangeIndex: 10554913 entries, 0 to 10554912\n",
      "Data columns (total 3 columns):\n",
      " #   Column     Dtype \n",
      "---  ------     ----- \n",
      " 0   tconst     object\n",
      " 1   directors  object\n",
      " 2   writers    object\n",
      "dtypes: object(3)\n",
      "memory usage: 241.6+ MB\n"
     ]
    }
   ],
   "source": [
    "df_crew = pd.read_csv(\"Data/title.crew.tsv\", delimiter=\"\\t\")\n",
    "df_crew.info()"
   ]
  },
  {
   "cell_type": "code",
   "execution_count": null,
   "id": "bb875d10-de2d-4328-83c2-21a8235773b4",
   "metadata": {},
   "outputs": [],
   "source": []
  },
  {
   "cell_type": "markdown",
   "id": "5b727393-e4f1-4ead-94c8-e296b9302e4d",
   "metadata": {},
   "source": [
    "## Ratings DF Import"
   ]
  },
  {
   "cell_type": "code",
   "execution_count": 17,
   "id": "bb38101a-6fa3-42ee-97f9-8c73efc5a368",
   "metadata": {},
   "outputs": [
    {
     "name": "stdout",
     "output_type": "stream",
     "text": [
      "<class 'pandas.core.frame.DataFrame'>\n",
      "RangeIndex: 1495761 entries, 0 to 1495760\n",
      "Data columns (total 3 columns):\n",
      " #   Column         Non-Null Count    Dtype  \n",
      "---  ------         --------------    -----  \n",
      " 0   tconst         1495761 non-null  object \n",
      " 1   averageRating  1495761 non-null  float64\n",
      " 2   numVotes       1495761 non-null  int64  \n",
      "dtypes: float64(1), int64(1), object(1)\n",
      "memory usage: 34.2+ MB\n"
     ]
    }
   ],
   "source": [
    "df_ratings = pd.read_csv(\"Data/title.ratings.tsv\", delimiter=\"\\t\")\n",
    "df_ratings.info()"
   ]
  },
  {
   "cell_type": "markdown",
   "id": "ba75b6aa-711a-4270-a9ce-13f1b8f411a1",
   "metadata": {},
   "source": [
    "## People DF Import"
   ]
  },
  {
   "cell_type": "code",
   "execution_count": 58,
   "id": "ddd8ce13-11da-45a1-93e8-c200ca014710",
   "metadata": {},
   "outputs": [
    {
     "name": "stdout",
     "output_type": "stream",
     "text": [
      "<class 'pandas.core.frame.DataFrame'>\n",
      "RangeIndex: 13929073 entries, 0 to 13929072\n",
      "Data columns (total 4 columns):\n",
      " #   Column             Dtype \n",
      "---  ------             ----- \n",
      " 0   nconst             object\n",
      " 1   primaryName        object\n",
      " 2   primaryProfession  object\n",
      " 3   knownForTitles     object\n",
      "dtypes: object(4)\n",
      "memory usage: 425.1+ MB\n"
     ]
    }
   ],
   "source": [
    "df_people = pd.read_csv(\"Data/name.basics.tsv\", delimiter=\"\\t\")\n",
    "df_people = df_people.drop(['birthYear', 'deathYear'], axis=1)\n",
    "df_people.info()"
   ]
  }
 ],
 "metadata": {
  "kernelspec": {
   "display_name": "Python 3 (ipykernel)",
   "language": "python",
   "name": "python3"
  },
  "language_info": {
   "codemirror_mode": {
    "name": "ipython",
    "version": 3
   },
   "file_extension": ".py",
   "mimetype": "text/x-python",
   "name": "python",
   "nbconvert_exporter": "python",
   "pygments_lexer": "ipython3",
   "version": "3.12.2"
  }
 },
 "nbformat": 4,
 "nbformat_minor": 5
}
