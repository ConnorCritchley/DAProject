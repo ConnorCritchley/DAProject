{
 "cells": [
  {
   "cell_type": "markdown",
   "id": "986ff4f3-b06e-4eda-9cd6-addaa5bee7cd",
   "metadata": {},
   "source": [
    "# Data Analytics Project\n",
    "\n",
    "# Our Qestion: \n",
    "[duration-rating, ratings-directors, \n",
    "\n",
    "\n",
    "## Initialization/Imports"
   ]
  },
  {
   "cell_type": "code",
   "execution_count": 3,
   "id": "07c57aa5-eea6-40fa-a422-ab82de7ddaf9",
   "metadata": {},
   "outputs": [],
   "source": [
    "import pandas as pd\n",
    "import matplotlib as plt\n",
    "import seaborn as sns"
   ]
  },
  {
   "cell_type": "markdown",
   "id": "7f29f261-00c4-4fc6-9bd5-3df3d393e4fe",
   "metadata": {},
   "source": [
    "## Titles DF Import"
   ]
  },
  {
   "cell_type": "code",
   "execution_count": 21,
   "id": "d560e10a-1db9-45b2-9141-f2332a17d02b",
   "metadata": {},
   "outputs": [
    {
     "name": "stderr",
     "output_type": "stream",
     "text": [
      "/var/folders/bk/frkpdn794lg4tpwpn9vrl7w00000gn/T/ipykernel_10685/167427577.py:1: DtypeWarning: Columns (4) have mixed types. Specify dtype option on import or set low_memory=False.\n",
      "  df_titles = pd.read_csv(\"Data/title.basics.tsv\", delimiter=\"\\t\")\n"
     ]
    },
    {
     "name": "stdout",
     "output_type": "stream",
     "text": [
      "<class 'pandas.core.frame.DataFrame'>\n",
      "RangeIndex: 11217433 entries, 0 to 11217432\n",
      "Data columns (total 9 columns):\n",
      " #   Column          Dtype \n",
      "---  ------          ----- \n",
      " 0   tconst          object\n",
      " 1   titleType       object\n",
      " 2   primaryTitle    object\n",
      " 3   originalTitle   object\n",
      " 4   isAdult         object\n",
      " 5   startYear       object\n",
      " 6   endYear         object\n",
      " 7   runtimeMinutes  object\n",
      " 8   genres          object\n",
      "dtypes: object(9)\n",
      "memory usage: 770.2+ MB\n"
     ]
    }
   ],
   "source": [
    "df_titles = pd.read_csv(\"Data/title.basics.tsv\", delimiter=\"\\t\")\n",
    "df_titles.info()"
   ]
  },
  {
   "cell_type": "markdown",
   "id": "10a60c63-c267-4949-9e36-0649270ad0e2",
   "metadata": {},
   "source": [
    "### Titles cleaning\n",
    "#### NA values"
   ]
  },
  {
   "cell_type": "code",
   "execution_count": 11,
   "id": "30d14bc0-7015-457e-8e22-b2e4d4ce84e0",
   "metadata": {},
   "outputs": [
    {
     "data": {
      "text/plain": [
       "tconst            0\n",
       "titleType         0\n",
       "primaryTitle      0\n",
       "originalTitle     0\n",
       "isAdult           0\n",
       "startYear         0\n",
       "endYear           0\n",
       "runtimeMinutes    0\n",
       "genres            0\n",
       "dtype: int64"
      ]
     },
     "execution_count": 11,
     "metadata": {},
     "output_type": "execute_result"
    }
   ],
   "source": [
    "df_titles = df_titles.dropna()\n",
    "df_titles.isna().sum()"
   ]
  },
  {
   "cell_type": "markdown",
   "id": "49e68725-31cc-4cc9-aad9-5fb5076ffe46",
   "metadata": {},
   "source": [
    "#### Only movies"
   ]
  },
  {
   "cell_type": "code",
   "execution_count": 12,
   "id": "61e8378a-6184-40eb-8fdf-465b10cfcad6",
   "metadata": {},
   "outputs": [
    {
     "name": "stdout",
     "output_type": "stream",
     "text": [
      "<class 'pandas.core.frame.DataFrame'>\n",
      "Index: 696415 entries, 8 to 11217383\n",
      "Data columns (total 9 columns):\n",
      " #   Column          Non-Null Count   Dtype \n",
      "---  ------          --------------   ----- \n",
      " 0   tconst          696415 non-null  object\n",
      " 1   titleType       696415 non-null  object\n",
      " 2   primaryTitle    696415 non-null  object\n",
      " 3   originalTitle   696415 non-null  object\n",
      " 4   isAdult         696415 non-null  object\n",
      " 5   startYear       696415 non-null  object\n",
      " 6   endYear         696415 non-null  object\n",
      " 7   runtimeMinutes  696415 non-null  object\n",
      " 8   genres          696415 non-null  object\n",
      "dtypes: object(9)\n",
      "memory usage: 53.1+ MB\n"
     ]
    }
   ],
   "source": [
    "df_titles = df_titles[df_titles['titleType'] == 'movie']\n",
    "df_titles.info()"
   ]
  },
  {
   "cell_type": "markdown",
   "id": "107b15de-839d-4b93-9a91-c550c1f13c0f",
   "metadata": {},
   "source": [
    "#### Fix runtime \\N's"
   ]
  },
  {
   "cell_type": "code",
   "execution_count": 26,
   "id": "ac3afb48-af90-4315-89e1-26f5a06c8447",
   "metadata": {},
   "outputs": [
    {
     "data": {
      "text/plain": [
       "array(['1', '5', '12', '45', '2', None, '3', '100', '13', '6', '4', '40',\n",
       "       '11', '9', '10', '15', '21', '16', '8', '14', '7', '24', '17',\n",
       "       '70', '90', '20', '25', '120', '36', '18', '30', '19', '44', '38',\n",
       "       '58', '22', '33', '50', '34', '28', '35', '42', '23', '51', '52',\n",
       "       '60', '92', '56', '26', '53', '31', '41', '48', '47', '68', '29',\n",
       "       '71', '43', '46', '27', '32', '76', '113', '55', '150', '300',\n",
       "       '121', '89', '37', '69', '54', '64', '96', '49', '61', '39', '101',\n",
       "       '57', '99', '110', '85', '88', '86', '170', '63', '72', '78', '75',\n",
       "       '450', '148', '80', '124', '220', '59', '112', '1428', '84', '65',\n",
       "       '74', '105', '310', '73', '82', '81', '199', '139', '109', '67',\n",
       "       '219', '195', '440', '77', '293', '97', '79', '62', '66', '250',\n",
       "       '421', '360', '180', '93', '163', '400', '95', '165', '83', '116',\n",
       "       '320', '125', '127', '138', '460', '350', '374', '480', '330',\n",
       "       '87', '130', '108', '600', '240', '117', '410', '135', '146',\n",
       "       '104', '418', '106', '242', '223', '489', '102', '200', '98',\n",
       "       '119', '122', '115', '207', '166', '238', '111', '145', '131',\n",
       "       '243', '133', '172', '167', '103', '94', '355', '206', '91', '157',\n",
       "       '107', '248', '235', '184', '118', '114', '380', '128', '143',\n",
       "       '155', '137', '183', '210', '136', '417', '141', '162', '153',\n",
       "       '129', '123', '151', '182', '140', '359', '126', '132', '179',\n",
       "       '260', '230', '168', '160', '144', '159', '185', '156', '215',\n",
       "       '177', '213', '149', '225', '147', '266', '152', '217', '158',\n",
       "       '226', '134', '194', '216', '227', '231', '218', '246', '281',\n",
       "       '208', '228', '229', '212', '236', '306', '257', '245', '197',\n",
       "       '255', '142', '323', '305', '328', '176', '232', '258', '256',\n",
       "       '303', '308', '224', '294', '268', '204', '298', '299', '264',\n",
       "       '211', '302', '263', '265', '205', '154', '237', '285', '269',\n",
       "       '267', '247', '186', '241', '289', '283', '290', '270', '251',\n",
       "       '278', '196', '279', '261', '275', '280', '244', '189', '169',\n",
       "       '284', '295', '201', '221', '192', '252', '171', '193', '287',\n",
       "       '361', '175', '174', '173', '315', '190', '164', '239', '178',\n",
       "       '161', '181', '188', '497', '327', '317', '191', '209', '434',\n",
       "       '234', '288', '438', '393', '378', '316', '340', '203', '253',\n",
       "       '344', '540', '476', '451', '321', '348', '890', '309', '653',\n",
       "       '431', '390', '202', '187', '370', '396', '282', '286', '763',\n",
       "       '770', '311', '500', '373', '596', '750', '273', '442', '599',\n",
       "       '333', '614', '385', '780', '510', '271', '274', '262', '420',\n",
       "       '291', '366', '742', '676', '673', '358', '301', '233', '198',\n",
       "       '752', '504', '720', '520', '313', '413', '700', '222', '391',\n",
       "       '428', '437', '416', '367', '566', '569', '371', '376', '870',\n",
       "       '312', '407', '331', '375', '436', '353', '357', '873', '1290',\n",
       "       '345', '318', '335', '624', '272', '567', '606', '214', '384',\n",
       "       '501', '834', '522', '276', '439', '314', '515', '620', '528',\n",
       "       '341', '568', '571', '556', '386', '383', '650', '343', '277',\n",
       "       '698', '401', '377', '672', '465', '622', '296', '1352', '1320',\n",
       "       '395', '583', '665', '339', '415', '351', '1620', '388', '325',\n",
       "       '336', '254', '455', '554', '612', '616', '349', '659', '458',\n",
       "       '426', '660', '1500', '475', '778', '1080', '485', '495', '382',\n",
       "       '1800', '577', '1440', '307', '2800', '491', '338', '840', '406',\n",
       "       '776', '369', '297', '804', '445', '347', '960', '615', '392',\n",
       "       '663', '693', '580', '425', '544', '5220', '259', '464', '545',\n",
       "       '640', '304', '446', '372', '629', '678', '1300', '352', '689',\n",
       "       '793', '2925', '608', '2880', '1170', '0', '462', '701', '657',\n",
       "       '249', '346', '468', '1970', '551', '1260', '1020', '1200', '646',\n",
       "       '459', '579', '820', '704', '630', '408', '999', '402', '715',\n",
       "       '514', '1664', '1215', '625', '1710', '1035', '550', '1370',\n",
       "       '1350', '1410', '1380', '326', '1100', '730', '364', '516', '705',\n",
       "       '1196', '443', '765', '2001', '1000', '2002', '502', '8400', '541',\n",
       "       '2000', '1999', '594', '414', '652', '1997', '1040', '1442', '598',\n",
       "       '354', '526', '334', '487', '1773', '1932', '466', '4800', '363',\n",
       "       '3900', '2150', '900', '552', '381', '527', '636', '575', '322',\n",
       "       '519', '379', '530', '412', '506', '547', '800', '441', '469',\n",
       "       '719', '429', '1441', '490', 'Reality-TV', '784', '387', '319',\n",
       "       '474', '422', '990', '368', '3285', '669', '3300', '1400', '10062',\n",
       "       '2018', '332', '585', '2160', 'Talk-Show', '623', '525', '337',\n",
       "       '634', '2004', '570', 'Documentary', '13319', '292', '1325', '404',\n",
       "       '2020', '324', '409', '478', '472', '329', '35791', 'Game-Show',\n",
       "       '1444', '479', '471', '28643', '1845', '675', '1682', '1445',\n",
       "       '362', '1174', '1050', '943', '933', '435', '498', '521', '2010',\n",
       "       '1099', '483', '668', '785', '499', '6000', '449', '496', '518',\n",
       "       '539', '702', '399', '670', '712', '619',\n",
       "       'Animation,Comedy,Family', '959', '512', '950', '456', '448',\n",
       "       '559', '736', '470', '444', '405', '830', '883', '454', '432',\n",
       "       '457', '467', '447', '453', '942', '452', '3087', '593', '365',\n",
       "       '503', '602', '481', '586', '397', '1452', '1554', '542', '850',\n",
       "       '562', '2580', '507', '961', '641', '964', '342', '2520', '885',\n",
       "       '1268', '1134', '691', '403', '1873', '1860', '572', '783', '509',\n",
       "       '2021', '553', '494', '711', '484', '901', '930', '546', '482',\n",
       "       '7200', '427', '3720', '1973', '493', '398', '3000', '1560',\n",
       "       '1680', '394', '814', '508', '356', '605', '680', '1568', '751',\n",
       "       '5700', '590', '845', '717', '998', '853', '513', '2400', '1669',\n",
       "       '558', '1210', '771', '655', '865', '588', '488', '695', '970',\n",
       "       '12000', '463', '565', '642', '2252', '1700', '2460', '899', '842',\n",
       "       '9000', '613', '411', '696', '758', '803', '1234', '610', '582',\n",
       "       '645', '461', '707', '473', '810', '1005', '578', '14400',\n",
       "       'News,Talk-Show', '1087', '1140', '912', 'Comedy,News,Talk-Show',\n",
       "       '1415', '1026', '709', '532', '1504', '536', '741',\n",
       "       'Documentary,Reality-TV', '424', '703', '1034', '486', '685',\n",
       "       '560', 'Adult', '505', '17280', '59460', '852', '632', '535',\n",
       "       '1584', '11541', '764', '1044', 'Comedy,Drama,Fantasy', '723',\n",
       "       '654', '1262', '537', '1011', '948', '1084', '1002', '1421',\n",
       "       'Fantasy,Horror,Mystery', '1349', '799', '1464', '910', '819',\n",
       "       '37440', '904', 'Action,Fantasy,Horror', 'Action,Horror,Mystery',\n",
       "       '1784', '2005', '2007', '2030', 'Comedy,Drama,Horror', '913',\n",
       "       '2027', 'Action,Adventure,Drama', '871', '1576', '1229', '661',\n",
       "       '1060', '920', 'Music', '587', '744', '524', '869', '884', '777',\n",
       "       '679', '792', '557', '940', '1056', '2695', '2867', '1511', '1663',\n",
       "       '1175', '972', '833', '389', '847', '893', '965', '856', '430',\n",
       "       '1384', '1209', '2840', '1143', '874', '529', '1470', '1411',\n",
       "       '1716', '2288', '3077', '419', '543', '43200', '936', '747',\n",
       "       'Game-Show,Reality-TV', '1008', '1285', '2565', '1495', '1151',\n",
       "       '740', '549', '1644', '627', '1207', '714', '3240', '2905', '5460',\n",
       "       '1068', '607', '433', '684', '662', '597', '1559', '958', '914',\n",
       "       '1616', '2070', '923', '789', '4162', '477', '3825', '697', '1228',\n",
       "       '2015', '773', '1439', '1329', '1416', '548', '954', '5760', '746',\n",
       "       '1184', '1179', '423', '51420', '531', '601', '1750', '808',\n",
       "       '1755', '1980', '2112', '716', '690', '755', '721', '795', '3600',\n",
       "       '2088'], dtype=object)"
      ]
     },
     "execution_count": 26,
     "metadata": {},
     "output_type": "execute_result"
    }
   ],
   "source": [
    "df_titles['runtimeMinutes'] = df_titles['runtimeMinutes'].replace('\\\\N', None)\n",
    "df_titles['runtimeMinutes'].unique()"
   ]
  },
  {
   "cell_type": "markdown",
   "id": "e926a0c3-ac83-4b7a-b5ae-6c7d7e641484",
   "metadata": {},
   "source": [
    "## Crew DF Import"
   ]
  },
  {
   "cell_type": "code",
   "execution_count": 15,
   "id": "96c837d1-13ff-4036-a17d-1a4f00a2a7bc",
   "metadata": {},
   "outputs": [
    {
     "name": "stdout",
     "output_type": "stream",
     "text": [
      "<class 'pandas.core.frame.DataFrame'>\n",
      "RangeIndex: 10554913 entries, 0 to 10554912\n",
      "Data columns (total 3 columns):\n",
      " #   Column     Dtype \n",
      "---  ------     ----- \n",
      " 0   tconst     object\n",
      " 1   directors  object\n",
      " 2   writers    object\n",
      "dtypes: object(3)\n",
      "memory usage: 241.6+ MB\n"
     ]
    }
   ],
   "source": [
    "df_crew = pd.read_csv(\"Data/title.crew.tsv\", delimiter=\"\\t\")\n",
    "df_crew.info()"
   ]
  },
  {
   "cell_type": "code",
   "execution_count": null,
   "id": "bb875d10-de2d-4328-83c2-21a8235773b4",
   "metadata": {},
   "outputs": [],
   "source": []
  },
  {
   "cell_type": "markdown",
   "id": "5b727393-e4f1-4ead-94c8-e296b9302e4d",
   "metadata": {},
   "source": [
    "## Ratings DF Import"
   ]
  },
  {
   "cell_type": "code",
   "execution_count": 17,
   "id": "bb38101a-6fa3-42ee-97f9-8c73efc5a368",
   "metadata": {},
   "outputs": [
    {
     "name": "stdout",
     "output_type": "stream",
     "text": [
      "<class 'pandas.core.frame.DataFrame'>\n",
      "RangeIndex: 1495761 entries, 0 to 1495760\n",
      "Data columns (total 3 columns):\n",
      " #   Column         Non-Null Count    Dtype  \n",
      "---  ------         --------------    -----  \n",
      " 0   tconst         1495761 non-null  object \n",
      " 1   averageRating  1495761 non-null  float64\n",
      " 2   numVotes       1495761 non-null  int64  \n",
      "dtypes: float64(1), int64(1), object(1)\n",
      "memory usage: 34.2+ MB\n"
     ]
    }
   ],
   "source": [
    "df_ratings = pd.read_csv(\"Data/title.ratings.tsv\", delimiter=\"\\t\")\n",
    "df_ratings.info()"
   ]
  },
  {
   "cell_type": "markdown",
   "id": "ba75b6aa-711a-4270-a9ce-13f1b8f411a1",
   "metadata": {},
   "source": [
    "## People DF Import"
   ]
  },
  {
   "cell_type": "code",
   "execution_count": 19,
   "id": "ddd8ce13-11da-45a1-93e8-c200ca014710",
   "metadata": {},
   "outputs": [
    {
     "name": "stdout",
     "output_type": "stream",
     "text": [
      "<class 'pandas.core.frame.DataFrame'>\n",
      "RangeIndex: 13929073 entries, 0 to 13929072\n",
      "Data columns (total 6 columns):\n",
      " #   Column             Dtype \n",
      "---  ------             ----- \n",
      " 0   nconst             object\n",
      " 1   primaryName        object\n",
      " 2   birthYear          object\n",
      " 3   deathYear          object\n",
      " 4   primaryProfession  object\n",
      " 5   knownForTitles     object\n",
      "dtypes: object(6)\n",
      "memory usage: 637.6+ MB\n"
     ]
    }
   ],
   "source": [
    "df_people = pd.read_csv(\"Data/name.basics.tsv\", delimiter=\"\\t\")\n",
    "df_people.info()"
   ]
  }
 ],
 "metadata": {
  "kernelspec": {
   "display_name": "Python 3 (ipykernel)",
   "language": "python",
   "name": "python3"
  },
  "language_info": {
   "codemirror_mode": {
    "name": "ipython",
    "version": 3
   },
   "file_extension": ".py",
   "mimetype": "text/x-python",
   "name": "python",
   "nbconvert_exporter": "python",
   "pygments_lexer": "ipython3",
   "version": "3.12.2"
  }
 },
 "nbformat": 4,
 "nbformat_minor": 5
}
