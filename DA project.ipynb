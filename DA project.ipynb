{
 "cells": [
  {
   "cell_type": "markdown",
   "id": "986ff4f3-b06e-4eda-9cd6-addaa5bee7cd",
   "metadata": {},
   "source": [
    "# Data Analytics Project\n",
    "\n",
    "# Our Qestion: \n",
    "[duration-rating, ratings-directors, \n",
    "\n",
    "\n",
    "## Initialization/Imports"
   ]
  },
  {
   "cell_type": "code",
   "execution_count": 3,
   "id": "07c57aa5-eea6-40fa-a422-ab82de7ddaf9",
   "metadata": {},
   "outputs": [],
   "source": [
    "import pandas as pd\n",
    "import matplotlib as plt\n",
    "import seaborn as sns"
   ]
  },
  {
   "cell_type": "markdown",
   "id": "7f29f261-00c4-4fc6-9bd5-3df3d393e4fe",
   "metadata": {},
   "source": [
    "## Titles DF Import"
   ]
  },
  {
   "cell_type": "code",
   "execution_count": 5,
   "id": "d560e10a-1db9-45b2-9141-f2332a17d02b",
   "metadata": {},
   "outputs": [
    {
     "name": "stderr",
     "output_type": "stream",
     "text": [
      "/var/folders/bk/frkpdn794lg4tpwpn9vrl7w00000gn/T/ipykernel_10685/3352983930.py:1: DtypeWarning: Columns (4) have mixed types. Specify dtype option on import or set low_memory=False.\n",
      "  df_titles = pd.read_csv(\"Data/title.basics.tsv\", delimiter=\"\\t\")\n"
     ]
    },
    {
     "data": {
      "text/html": [
       "<div>\n",
       "<style scoped>\n",
       "    .dataframe tbody tr th:only-of-type {\n",
       "        vertical-align: middle;\n",
       "    }\n",
       "\n",
       "    .dataframe tbody tr th {\n",
       "        vertical-align: top;\n",
       "    }\n",
       "\n",
       "    .dataframe thead th {\n",
       "        text-align: right;\n",
       "    }\n",
       "</style>\n",
       "<table border=\"1\" class=\"dataframe\">\n",
       "  <thead>\n",
       "    <tr style=\"text-align: right;\">\n",
       "      <th></th>\n",
       "      <th>tconst</th>\n",
       "      <th>titleType</th>\n",
       "      <th>primaryTitle</th>\n",
       "      <th>originalTitle</th>\n",
       "      <th>isAdult</th>\n",
       "      <th>startYear</th>\n",
       "      <th>endYear</th>\n",
       "      <th>runtimeMinutes</th>\n",
       "      <th>genres</th>\n",
       "    </tr>\n",
       "  </thead>\n",
       "  <tbody>\n",
       "    <tr>\n",
       "      <th>0</th>\n",
       "      <td>tt0000001</td>\n",
       "      <td>short</td>\n",
       "      <td>Carmencita</td>\n",
       "      <td>Carmencita</td>\n",
       "      <td>0</td>\n",
       "      <td>1894</td>\n",
       "      <td>\\N</td>\n",
       "      <td>1</td>\n",
       "      <td>Documentary,Short</td>\n",
       "    </tr>\n",
       "    <tr>\n",
       "      <th>1</th>\n",
       "      <td>tt0000002</td>\n",
       "      <td>short</td>\n",
       "      <td>Le clown et ses chiens</td>\n",
       "      <td>Le clown et ses chiens</td>\n",
       "      <td>0</td>\n",
       "      <td>1892</td>\n",
       "      <td>\\N</td>\n",
       "      <td>5</td>\n",
       "      <td>Animation,Short</td>\n",
       "    </tr>\n",
       "    <tr>\n",
       "      <th>2</th>\n",
       "      <td>tt0000003</td>\n",
       "      <td>short</td>\n",
       "      <td>Poor Pierrot</td>\n",
       "      <td>Pauvre Pierrot</td>\n",
       "      <td>0</td>\n",
       "      <td>1892</td>\n",
       "      <td>\\N</td>\n",
       "      <td>5</td>\n",
       "      <td>Animation,Comedy,Romance</td>\n",
       "    </tr>\n",
       "    <tr>\n",
       "      <th>3</th>\n",
       "      <td>tt0000004</td>\n",
       "      <td>short</td>\n",
       "      <td>Un bon bock</td>\n",
       "      <td>Un bon bock</td>\n",
       "      <td>0</td>\n",
       "      <td>1892</td>\n",
       "      <td>\\N</td>\n",
       "      <td>12</td>\n",
       "      <td>Animation,Short</td>\n",
       "    </tr>\n",
       "    <tr>\n",
       "      <th>4</th>\n",
       "      <td>tt0000005</td>\n",
       "      <td>short</td>\n",
       "      <td>Blacksmith Scene</td>\n",
       "      <td>Blacksmith Scene</td>\n",
       "      <td>0</td>\n",
       "      <td>1893</td>\n",
       "      <td>\\N</td>\n",
       "      <td>1</td>\n",
       "      <td>Comedy,Short</td>\n",
       "    </tr>\n",
       "  </tbody>\n",
       "</table>\n",
       "</div>"
      ],
      "text/plain": [
       "      tconst titleType            primaryTitle           originalTitle  \\\n",
       "0  tt0000001     short              Carmencita              Carmencita   \n",
       "1  tt0000002     short  Le clown et ses chiens  Le clown et ses chiens   \n",
       "2  tt0000003     short            Poor Pierrot          Pauvre Pierrot   \n",
       "3  tt0000004     short             Un bon bock             Un bon bock   \n",
       "4  tt0000005     short        Blacksmith Scene        Blacksmith Scene   \n",
       "\n",
       "  isAdult startYear endYear runtimeMinutes                    genres  \n",
       "0       0      1894      \\N              1         Documentary,Short  \n",
       "1       0      1892      \\N              5           Animation,Short  \n",
       "2       0      1892      \\N              5  Animation,Comedy,Romance  \n",
       "3       0      1892      \\N             12           Animation,Short  \n",
       "4       0      1893      \\N              1              Comedy,Short  "
      ]
     },
     "execution_count": 5,
     "metadata": {},
     "output_type": "execute_result"
    }
   ],
   "source": [
    "df_titles = pd.read_csv(\"Data/title.basics.tsv\", delimiter=\"\\t\")\n",
    "df_titles.head()"
   ]
  },
  {
   "cell_type": "markdown",
   "id": "10a60c63-c267-4949-9e36-0649270ad0e2",
   "metadata": {},
   "source": [
    "### Titles cleaning\n",
    "#### NA values"
   ]
  },
  {
   "cell_type": "code",
   "execution_count": 11,
   "id": "30d14bc0-7015-457e-8e22-b2e4d4ce84e0",
   "metadata": {},
   "outputs": [
    {
     "data": {
      "text/plain": [
       "tconst            0\n",
       "titleType         0\n",
       "primaryTitle      0\n",
       "originalTitle     0\n",
       "isAdult           0\n",
       "startYear         0\n",
       "endYear           0\n",
       "runtimeMinutes    0\n",
       "genres            0\n",
       "dtype: int64"
      ]
     },
     "execution_count": 11,
     "metadata": {},
     "output_type": "execute_result"
    }
   ],
   "source": [
    "df_titles = df_titles.dropna()\n",
    "df_titles.isna().sum()"
   ]
  },
  {
   "cell_type": "markdown",
   "id": "49e68725-31cc-4cc9-aad9-5fb5076ffe46",
   "metadata": {},
   "source": [
    "#### Only movies"
   ]
  },
  {
   "cell_type": "code",
   "execution_count": 12,
   "id": "61e8378a-6184-40eb-8fdf-465b10cfcad6",
   "metadata": {},
   "outputs": [
    {
     "name": "stdout",
     "output_type": "stream",
     "text": [
      "<class 'pandas.core.frame.DataFrame'>\n",
      "Index: 696415 entries, 8 to 11217383\n",
      "Data columns (total 9 columns):\n",
      " #   Column          Non-Null Count   Dtype \n",
      "---  ------          --------------   ----- \n",
      " 0   tconst          696415 non-null  object\n",
      " 1   titleType       696415 non-null  object\n",
      " 2   primaryTitle    696415 non-null  object\n",
      " 3   originalTitle   696415 non-null  object\n",
      " 4   isAdult         696415 non-null  object\n",
      " 5   startYear       696415 non-null  object\n",
      " 6   endYear         696415 non-null  object\n",
      " 7   runtimeMinutes  696415 non-null  object\n",
      " 8   genres          696415 non-null  object\n",
      "dtypes: object(9)\n",
      "memory usage: 53.1+ MB\n"
     ]
    }
   ],
   "source": [
    "df_titles = df_titles[df_titles['titleType'] == 'movie']\n",
    "df_titles.info()"
   ]
  },
  {
   "cell_type": "markdown",
   "id": "107b15de-839d-4b93-9a91-c550c1f13c0f",
   "metadata": {},
   "source": [
    "#### Fix runtime \\N's"
   ]
  },
  {
   "cell_type": "markdown",
   "id": "e926a0c3-ac83-4b7a-b5ae-6c7d7e641484",
   "metadata": {},
   "source": [
    "## Crew DF Import"
   ]
  },
  {
   "cell_type": "code",
   "execution_count": 15,
   "id": "96c837d1-13ff-4036-a17d-1a4f00a2a7bc",
   "metadata": {},
   "outputs": [
    {
     "name": "stdout",
     "output_type": "stream",
     "text": [
      "<class 'pandas.core.frame.DataFrame'>\n",
      "RangeIndex: 10554913 entries, 0 to 10554912\n",
      "Data columns (total 3 columns):\n",
      " #   Column     Dtype \n",
      "---  ------     ----- \n",
      " 0   tconst     object\n",
      " 1   directors  object\n",
      " 2   writers    object\n",
      "dtypes: object(3)\n",
      "memory usage: 241.6+ MB\n"
     ]
    }
   ],
   "source": [
    "df_crew = pd.read_csv(\"Data/title.crew.tsv\", delimiter=\"\\t\")\n",
    "df_crew.info()"
   ]
  },
  {
   "cell_type": "code",
   "execution_count": null,
   "id": "bb875d10-de2d-4328-83c2-21a8235773b4",
   "metadata": {},
   "outputs": [],
   "source": []
  },
  {
   "cell_type": "markdown",
   "id": "5b727393-e4f1-4ead-94c8-e296b9302e4d",
   "metadata": {},
   "source": [
    "## Ratings DF Import"
   ]
  },
  {
   "cell_type": "code",
   "execution_count": 17,
   "id": "bb38101a-6fa3-42ee-97f9-8c73efc5a368",
   "metadata": {},
   "outputs": [
    {
     "name": "stdout",
     "output_type": "stream",
     "text": [
      "<class 'pandas.core.frame.DataFrame'>\n",
      "RangeIndex: 1495761 entries, 0 to 1495760\n",
      "Data columns (total 3 columns):\n",
      " #   Column         Non-Null Count    Dtype  \n",
      "---  ------         --------------    -----  \n",
      " 0   tconst         1495761 non-null  object \n",
      " 1   averageRating  1495761 non-null  float64\n",
      " 2   numVotes       1495761 non-null  int64  \n",
      "dtypes: float64(1), int64(1), object(1)\n",
      "memory usage: 34.2+ MB\n"
     ]
    }
   ],
   "source": [
    "df_ratings = pd.read_csv(\"Data/title.ratings.tsv\", delimiter=\"\\t\")\n",
    "df_ratings.info()"
   ]
  },
  {
   "cell_type": "markdown",
   "id": "ba75b6aa-711a-4270-a9ce-13f1b8f411a1",
   "metadata": {},
   "source": [
    "## People DF Import"
   ]
  },
  {
   "cell_type": "code",
   "execution_count": 19,
   "id": "ddd8ce13-11da-45a1-93e8-c200ca014710",
   "metadata": {},
   "outputs": [
    {
     "name": "stdout",
     "output_type": "stream",
     "text": [
      "<class 'pandas.core.frame.DataFrame'>\n",
      "RangeIndex: 13929073 entries, 0 to 13929072\n",
      "Data columns (total 6 columns):\n",
      " #   Column             Dtype \n",
      "---  ------             ----- \n",
      " 0   nconst             object\n",
      " 1   primaryName        object\n",
      " 2   birthYear          object\n",
      " 3   deathYear          object\n",
      " 4   primaryProfession  object\n",
      " 5   knownForTitles     object\n",
      "dtypes: object(6)\n",
      "memory usage: 637.6+ MB\n"
     ]
    }
   ],
   "source": [
    "df_people = pd.read_csv(\"Data/name.basics.tsv\", delimiter=\"\\t\")\n",
    "df_people.info()"
   ]
  }
 ],
 "metadata": {
  "kernelspec": {
   "display_name": "Python 3 (ipykernel)",
   "language": "python",
   "name": "python3"
  },
  "language_info": {
   "codemirror_mode": {
    "name": "ipython",
    "version": 3
   },
   "file_extension": ".py",
   "mimetype": "text/x-python",
   "name": "python",
   "nbconvert_exporter": "python",
   "pygments_lexer": "ipython3",
   "version": "3.12.2"
  }
 },
 "nbformat": 4,
 "nbformat_minor": 5
}
